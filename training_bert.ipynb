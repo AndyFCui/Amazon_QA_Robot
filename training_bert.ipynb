{
 "cells": [
  {
   "cell_type": "code",
   "execution_count": 1,
   "id": "initial_id",
   "metadata": {
    "ExecuteTime": {
     "end_time": "2023-12-03T04:34:44.555485344Z",
     "start_time": "2023-12-03T04:34:44.513906311Z"
    }
   },
   "outputs": [
    {
     "name": "stderr",
     "output_type": "stream",
     "text": [
      "c:\\Users\\Andy Cui\\.conda\\envs\\nlp\\lib\\site-packages\\tqdm\\auto.py:21: TqdmWarning: IProgress not found. Please update jupyter and ipywidgets. See https://ipywidgets.readthedocs.io/en/stable/user_install.html\n",
      "  from .autonotebook import tqdm as notebook_tqdm\n"
     ]
    }
   ],
   "source": [
    "import json\n",
    "import torch\n",
    "import numpy as np\n",
    "from transformers import AdamW\n",
    "from sklearn.metrics import accuracy_score\n",
    "from transformers import BertTokenizer, BertForSequenceClassification\n",
    "from torch.utils.data import DataLoader, RandomSampler, SequentialSampler, TensorDataset\n",
    "from tqdm import tqdm\n",
    "import os\n",
    "import matplotlib.pyplot as plt\n",
    "from sklearn.model_selection import train_test_split\n",
    "from sklearn.model_selection import KFold\n",
    "from torch.utils.data import Subset"
   ]
  },
  {
   "cell_type": "code",
   "execution_count": 2,
   "id": "336e3f59095cf075",
   "metadata": {
    "ExecuteTime": {
     "end_time": "2023-12-03T04:32:45.651388083Z",
     "start_time": "2023-12-03T04:32:45.605108929Z"
    },
    "collapsed": false
   },
   "outputs": [],
   "source": [
    "file_path = 'qa_dataset.json'\n",
    "\n",
    "with open(file_path, 'r') as file:\n",
    "    data = json.load(file)"
   ]
  },
  {
   "cell_type": "code",
   "execution_count": 3,
   "id": "29c40423370cfb0c",
   "metadata": {
    "ExecuteTime": {
     "end_time": "2023-12-03T04:32:56.932934713Z",
     "start_time": "2023-12-03T04:32:56.153247862Z"
    },
    "collapsed": false
   },
   "outputs": [],
   "source": [
    "tokenizer = BertTokenizer.from_pretrained('bert-base-uncased')"
   ]
  },
  {
   "cell_type": "code",
   "execution_count": 4,
   "id": "30901295",
   "metadata": {},
   "outputs": [],
   "source": [
    "# Original \n",
    "# Prepare data \n",
    "\n",
    "# Tokenizing the data\n",
    "# inputs = tokenizer([x['question'] + \" [SEP] \" + x['answer'] for x in data], padding=True, truncation=True, return_tensors=\"pt\")\n",
    "\n",
    "# Assuming binary classification (change as needed)\n",
    "# labels = torch.tensor([1 if x['answer_length'] > 100 else 0 for x in data])\n",
    "\n",
    "# Create a dataset\n",
    "# dataset = TensorDataset(inputs['input_ids'], inputs['attention_mask'], labels)"
   ]
  },
  {
   "cell_type": "code",
   "execution_count": 5,
   "id": "a37eabf0",
   "metadata": {},
   "outputs": [],
   "source": [
    "# Prepare data\n",
    "\n",
    "# Tokenizing the data\n",
    "max_length = max(len(tokenizer.encode(x['question'] + \" [SEP] \" + x['answer'])) for x in data)\n",
    "tokenized_data = [tokenizer(x['question'] + \" [SEP] \" + x['answer'], \n",
    "                            padding='max_length',  \n",
    "                            max_length=max_length,  \n",
    "                            truncation=True, \n",
    "                            return_tensors=\"pt\") for x in data]\n",
    "\n",
    "# input\n",
    "input_ids = torch.cat([item['input_ids'] for item in tokenized_data], dim=0)\n",
    "attention_masks = torch.cat([item['attention_mask'] for item in tokenized_data], dim=0)\n",
    "labels = torch.tensor([1 if x['answer_length'] > 100 else 0 for x in data])\n",
    "\n",
    "# dataset seprate\n",
    "input_ids_train, input_ids_test, attention_masks_train, attention_masks_test, labels_train, labels_test = train_test_split(\n",
    "    input_ids, attention_masks, labels, train_size=0.7, random_state=42)\n",
    "\n",
    "# create dataset\n",
    "train_dataset = TensorDataset(input_ids_train, attention_masks_train, labels_train)\n",
    "test_dataset = TensorDataset(input_ids_test, attention_masks_test, labels_test)\n",
    "dataset = TensorDataset(input_ids, attention_masks, labels)"
   ]
  },
  {
   "cell_type": "code",
   "execution_count": 6,
   "id": "9b2a94ce5138fac5",
   "metadata": {
    "ExecuteTime": {
     "end_time": "2023-12-03T04:33:45.490716461Z",
     "start_time": "2023-12-03T04:33:15.276570494Z"
    },
    "collapsed": false
   },
   "outputs": [
    {
     "name": "stderr",
     "output_type": "stream",
     "text": [
      "Some weights of BertForSequenceClassification were not initialized from the model checkpoint at bert-base-uncased and are newly initialized: ['classifier.weight', 'classifier.bias']\n",
      "You should probably TRAIN this model on a down-stream task to be able to use it for predictions and inference.\n"
     ]
    }
   ],
   "source": [
    "device = torch.device(\"cuda\" if torch.cuda.is_available() else \"cpu\")"
   ]
  },
  {
   "cell_type": "code",
   "execution_count": 7,
   "id": "65fc5a99",
   "metadata": {},
   "outputs": [
    {
     "name": "stdout",
     "output_type": "stream",
     "text": [
      "CUDA is available. Using GPU.\n"
     ]
    }
   ],
   "source": [
    "# check GPU is work\n",
    "# Train the model using a suitable optimizer and loss function.\n",
    "if torch.cuda.is_available():\n",
    "    print(\"CUDA is available. Using GPU.\")\n",
    "    device = torch.device(\"cuda\")\n",
    "else:\n",
    "    print(\"CUDA is not available. Using CPU.\")\n",
    "    device = torch.device(\"cpu\")"
   ]
  },
  {
   "cell_type": "code",
   "execution_count": 8,
   "id": "abc82c94",
   "metadata": {},
   "outputs": [
    {
     "name": "stdout",
     "output_type": "stream",
     "text": [
      "1628\n"
     ]
    },
    {
     "data": {
      "text/plain": [
       "(tensor([[ 101, 2515, 2023,  ...,    0,    0,    0],\n",
       "         [ 101, 2064, 2017,  ...,    0,    0,    0],\n",
       "         [ 101, 2054, 2003,  ...,    0,    0,    0],\n",
       "         ...,\n",
       "         [ 101, 2064, 2009,  ...,    0,    0,    0],\n",
       "         [ 101, 7632, 2515,  ...,    0,    0,    0],\n",
       "         [ 101, 2003, 1996,  ...,    0,    0,    0]]),\n",
       " tensor([[1, 1, 1,  ..., 0, 0, 0],\n",
       "         [1, 1, 1,  ..., 0, 0, 0],\n",
       "         [1, 1, 1,  ..., 0, 0, 0],\n",
       "         ...,\n",
       "         [1, 1, 1,  ..., 0, 0, 0],\n",
       "         [1, 1, 1,  ..., 0, 0, 0],\n",
       "         [1, 1, 1,  ..., 0, 0, 0]]),\n",
       " tensor([1, 0, 1, 0, 1, 0, 0, 0, 0, 0]))"
      ]
     },
     "execution_count": 8,
     "metadata": {},
     "output_type": "execute_result"
    }
   ],
   "source": [
    "print(len(dataset))\n",
    "dataset[:10]"
   ]
  },
  {
   "cell_type": "markdown",
   "id": "a3b226d5e9330d47",
   "metadata": {
    "collapsed": false
   },
   "source": [
    "## Config 1-8"
   ]
  },
  {
   "cell_type": "code",
   "execution_count": 9,
   "id": "5a16023ef51bad72",
   "metadata": {
    "collapsed": false
   },
   "outputs": [
    {
     "name": "stdout",
     "output_type": "stream",
     "text": [
      "Parameters: \n",
      "    Batch size: 4\n",
      "    Epochs: 25\n",
      "    Learning rate:1e-05\n"
     ]
    },
    {
     "name": "stderr",
     "output_type": "stream",
     "text": [
      "c:\\Users\\Andy Cui\\.conda\\envs\\nlp\\lib\\site-packages\\transformers\\optimization.py:411: FutureWarning: This implementation of AdamW is deprecated and will be removed in a future version. Use the PyTorch implementation torch.optim.AdamW instead, or set `no_deprecation_warning=True` to disable this warning\n",
      "  warnings.warn(\n",
      "Epoch 1: 100%|██████████| 285/285 [00:43<00:00,  6.60it/s, loss=0.383]\n",
      "Epoch 2: 100%|██████████| 285/285 [00:42<00:00,  6.68it/s, loss=0.153] \n",
      "Epoch 3: 100%|██████████| 285/285 [00:42<00:00,  6.76it/s, loss=0.0564]\n",
      "Epoch 4: 100%|██████████| 285/285 [00:42<00:00,  6.74it/s, loss=0.0262] \n",
      "Epoch 5: 100%|██████████| 285/285 [00:42<00:00,  6.77it/s, loss=0.00109] \n",
      "Epoch 6: 100%|██████████| 285/285 [00:42<00:00,  6.77it/s, loss=0.000474]\n",
      "Epoch 7: 100%|██████████| 285/285 [00:42<00:00,  6.77it/s, loss=0.000293]\n",
      "Epoch 8: 100%|██████████| 285/285 [00:39<00:00,  7.14it/s, loss=0.000211]\n",
      "Epoch 9: 100%|██████████| 285/285 [00:38<00:00,  7.36it/s, loss=0.000151]\n",
      "Epoch 10: 100%|██████████| 285/285 [00:38<00:00,  7.50it/s, loss=0.000119]\n",
      "Epoch 11: 100%|██████████| 285/285 [00:38<00:00,  7.49it/s, loss=0.0725]  \n",
      "Epoch 12: 100%|██████████| 285/285 [00:38<00:00,  7.49it/s, loss=0.0642] \n",
      "Epoch 13: 100%|██████████| 285/285 [00:38<00:00,  7.49it/s, loss=0.0266] \n",
      "Epoch 14: 100%|██████████| 285/285 [00:38<00:00,  7.49it/s, loss=0.0209] \n",
      "Epoch 15: 100%|██████████| 285/285 [00:38<00:00,  7.47it/s, loss=0.0118]\n",
      "Epoch 16: 100%|██████████| 285/285 [00:38<00:00,  7.39it/s, loss=0.00033] \n",
      "Epoch 17: 100%|██████████| 285/285 [00:38<00:00,  7.36it/s, loss=0.000394]\n",
      "Epoch 18: 100%|██████████| 285/285 [00:38<00:00,  7.41it/s, loss=0.000126]\n",
      "Epoch 19: 100%|██████████| 285/285 [00:38<00:00,  7.48it/s, loss=8.06e-5]\n",
      "Epoch 20: 100%|██████████| 285/285 [00:38<00:00,  7.48it/s, loss=6.5e-5] \n",
      "Epoch 21: 100%|██████████| 285/285 [00:38<00:00,  7.48it/s, loss=4.63e-5]\n",
      "Epoch 22: 100%|██████████| 285/285 [00:38<00:00,  7.48it/s, loss=3.84e-5]\n",
      "Epoch 23: 100%|██████████| 285/285 [00:38<00:00,  7.48it/s, loss=3.63e-5]\n",
      "Epoch 24: 100%|██████████| 285/285 [00:38<00:00,  7.49it/s, loss=3.1e-5] \n",
      "Epoch 25: 100%|██████████| 285/285 [00:38<00:00,  7.48it/s, loss=2.49e-5]\n"
     ]
    },
    {
     "data": {
      "image/png": "[encoded data removed]",
      "text/plain": [
       "<Figure size 640x480 with 1 Axes>"
      ]
     },
     "metadata": {},
     "output_type": "display_data"
    },
    {
     "name": "stderr",
     "output_type": "stream",
     "text": [
      "c:\\Users\\Andy Cui\\.conda\\envs\\nlp\\lib\\site-packages\\transformers\\optimization.py:411: FutureWarning: This implementation of AdamW is deprecated and will be removed in a future version. Use the PyTorch implementation torch.optim.AdamW instead, or set `no_deprecation_warning=True` to disable this warning\n",
      "  warnings.warn(\n"
     ]
    },
    {
     "name": "stdout",
     "output_type": "stream",
     "text": [
      "Parameters: \n",
      "    Batch size: 4\n",
      "    Epochs: 25\n",
      "    Learning rate:0.0001\n"
     ]
    },
    {
     "name": "stderr",
     "output_type": "stream",
     "text": [
      "Epoch 1: 100%|██████████| 285/285 [00:38<00:00,  7.48it/s, loss=7.15e-6]\n",
      "Epoch 2: 100%|██████████| 285/285 [00:38<00:00,  7.49it/s, loss=1.28e-6]\n",
      "Epoch 3: 100%|██████████| 285/285 [00:38<00:00,  7.49it/s, loss=6.13e-7]\n",
      "Epoch 4: 100%|██████████| 285/285 [00:38<00:00,  7.48it/s, loss=3.46e-7]\n",
      "Epoch 5: 100%|██████████| 285/285 [00:38<00:00,  7.48it/s, loss=2.73e-7]\n",
      "Epoch 6: 100%|██████████| 285/285 [00:38<00:00,  7.48it/s, loss=1.69e-7]\n",
      "Epoch 7: 100%|██████████| 285/285 [00:38<00:00,  7.48it/s, loss=1.42e-7]\n",
      "Epoch 8: 100%|██████████| 285/285 [00:38<00:00,  7.48it/s, loss=1.18e-7]\n",
      "Epoch 9: 100%|██████████| 285/285 [00:38<00:00,  7.48it/s, loss=9.53e-8]\n",
      "Epoch 10: 100%|██████████| 285/285 [00:38<00:00,  7.48it/s, loss=7.28e-8]\n",
      "Epoch 11: 100%|██████████| 285/285 [00:38<00:00,  7.48it/s, loss=4.86e-8]\n",
      "Epoch 12: 100%|██████████| 285/285 [00:38<00:00,  7.48it/s, loss=3.33e-8]\n",
      "Epoch 13: 100%|██████████| 285/285 [00:38<00:00,  7.48it/s, loss=2.34e-8]\n",
      "Epoch 14: 100%|██████████| 285/285 [00:38<00:00,  7.48it/s, loss=2.72e-8]\n",
      "Epoch 15: 100%|██████████| 285/285 [00:38<00:00,  7.49it/s, loss=1.5e-8] \n",
      "Epoch 16: 100%|██████████| 285/285 [00:38<00:00,  7.48it/s, loss=1.09e-8]\n",
      "Epoch 17: 100%|██████████| 285/285 [00:38<00:00,  7.48it/s, loss=7.32e-9]\n",
      "Epoch 18: 100%|██████████| 285/285 [00:38<00:00,  7.48it/s, loss=5.75e-9]\n",
      "Epoch 19: 100%|██████████| 285/285 [00:38<00:00,  7.48it/s, loss=5.54e-9]\n",
      "Epoch 20: 100%|██████████| 285/285 [00:38<00:00,  7.48it/s, loss=3.24e-9]\n",
      "Epoch 21: 100%|██████████| 285/285 [00:38<00:00,  7.48it/s, loss=4.08e-9]\n",
      "Epoch 22: 100%|██████████| 285/285 [00:38<00:00,  7.48it/s, loss=2.51e-9]\n",
      "Epoch 23: 100%|██████████| 285/285 [00:38<00:00,  7.48it/s, loss=2.61e-9]\n",
      "Epoch 24: 100%|██████████| 285/285 [00:38<00:00,  7.48it/s, loss=1.99e-9] \n",
      "Epoch 25: 100%|██████████| 285/285 [00:38<00:00,  7.48it/s, loss=1.88e-9] \n"
     ]
    },
    {
     "data": {
      "image/png": "[encoded data removed]",
      "text/plain": [
       "<Figure size 640x480 with 1 Axes>"
      ]
     },
     "metadata": {},
     "output_type": "display_data"
    },
    {
     "name": "stdout",
     "output_type": "stream",
     "text": [
      "Parameters: \n",
      "    Batch size: 4\n",
      "    Epochs: 30\n",
      "    Learning rate:1e-05\n"
     ]
    },
    {
     "name": "stderr",
     "output_type": "stream",
     "text": [
      "Epoch 1: 100%|██████████| 285/285 [00:38<00:00,  7.49it/s, loss=1.71e-9] \n",
      "Epoch 2: 100%|██████████| 285/285 [00:38<00:00,  7.48it/s, loss=1.13e-8]\n",
      "Epoch 3: 100%|██████████| 285/285 [00:38<00:00,  7.48it/s, loss=3.76e-9] \n",
      "Epoch 4: 100%|██████████| 285/285 [00:38<00:00,  7.48it/s, loss=1.88e-9] \n",
      "Epoch 5: 100%|██████████| 285/285 [00:38<00:00,  7.48it/s, loss=1.05e-9] \n",
      "Epoch 6: 100%|██████████| 285/285 [00:38<00:00,  7.48it/s, loss=1.25e-9] \n",
      "Epoch 7: 100%|██████████| 285/285 [00:38<00:00,  7.48it/s, loss=1.25e-9] \n",
      "Epoch 8: 100%|██████████| 285/285 [00:38<00:00,  7.48it/s, loss=8.37e-10]\n",
      "Epoch 9: 100%|██████████| 285/285 [00:38<00:00,  7.49it/s, loss=1.36e-9] \n",
      "Epoch 10: 100%|██████████| 285/285 [00:38<00:00,  7.49it/s, loss=5.23e-10]\n",
      "Epoch 11: 100%|██████████| 285/285 [00:38<00:00,  7.49it/s, loss=3.14e-10]\n",
      "Epoch 12: 100%|██████████| 285/285 [00:38<00:00,  7.49it/s, loss=1.15e-9] \n",
      "Epoch 13: 100%|██████████| 285/285 [00:38<00:00,  7.48it/s, loss=9.41e-10]\n",
      "Epoch 14: 100%|██████████| 285/285 [00:38<00:00,  7.48it/s, loss=4.18e-10]\n",
      "Epoch 15: 100%|██████████| 285/285 [00:38<00:00,  7.48it/s, loss=6.27e-10]\n",
      "Epoch 16: 100%|██████████| 285/285 [00:38<00:00,  7.48it/s, loss=2.72e-9] \n",
      "Epoch 17: 100%|██████████| 285/285 [00:38<00:00,  7.48it/s, loss=1.05e-10]\n",
      "Epoch 18: 100%|██████████| 285/285 [00:38<00:00,  7.48it/s, loss=1.36e-9] \n",
      "Epoch 19: 100%|██████████| 285/285 [00:38<00:00,  7.48it/s, loss=5.23e-10]\n",
      "Epoch 20: 100%|██████████| 285/285 [00:39<00:00,  7.30it/s, loss=4.18e-10]\n",
      "Epoch 21: 100%|██████████| 285/285 [00:38<00:00,  7.47it/s, loss=1.25e-9] \n",
      "Epoch 22: 100%|██████████| 285/285 [00:38<00:00,  7.47it/s, loss=4.18e-10]\n",
      "Epoch 23: 100%|██████████| 285/285 [00:38<00:00,  7.47it/s, loss=3.14e-10]\n",
      "Epoch 24: 100%|██████████| 285/285 [00:38<00:00,  7.47it/s, loss=5.23e-10]\n",
      "Epoch 25: 100%|██████████| 285/285 [00:38<00:00,  7.48it/s, loss=1.05e-10]\n",
      "Epoch 26: 100%|██████████| 285/285 [00:38<00:00,  7.47it/s, loss=3.14e-10]\n",
      "Epoch 27: 100%|██████████| 285/285 [00:38<00:00,  7.47it/s, loss=3.14e-10]\n",
      "Epoch 28: 100%|██████████| 285/285 [00:38<00:00,  7.47it/s, loss=2.09e-10]\n",
      "Epoch 29: 100%|██████████| 285/285 [00:38<00:00,  7.47it/s, loss=4.18e-10]\n",
      "Epoch 30: 100%|██████████| 285/285 [00:38<00:00,  7.47it/s, loss=2.09e-10]\n"
     ]
    },
    {
     "data": {
      "image/png": "[encoded data removed]",
      "text/plain": [
       "<Figure size 640x480 with 1 Axes>"
      ]
     },
     "metadata": {},
     "output_type": "display_data"
    },
    {
     "name": "stdout",
     "output_type": "stream",
     "text": [
      "Parameters: \n",
      "    Batch size: 4\n",
      "    Epochs: 30\n",
      "    Learning rate:0.0001\n"
     ]
    },
    {
     "name": "stderr",
     "output_type": "stream",
     "text": [
      "Epoch 1: 100%|██████████| 285/285 [00:38<00:00,  7.47it/s, loss=3.14e-10]\n",
      "Epoch 2: 100%|██████████| 285/285 [00:38<00:00,  7.47it/s, loss=2.09e-10]\n",
      "Epoch 3: 100%|██████████| 285/285 [00:38<00:00,  7.47it/s, loss=2.09e-10]\n",
      "Epoch 4: 100%|██████████| 285/285 [00:38<00:00,  7.47it/s, loss=1.24e-7] \n",
      "Epoch 5: 100%|██████████| 285/285 [00:38<00:00,  7.47it/s, loss=1.99e-8] \n",
      "Epoch 6: 100%|██████████| 285/285 [00:38<00:00,  7.47it/s, loss=2.47e-8]\n",
      "Epoch 7: 100%|██████████| 285/285 [00:38<00:00,  7.47it/s, loss=1.05e-10]\n",
      "Epoch 8: 100%|██████████| 285/285 [00:38<00:00,  7.47it/s, loss=1.05e-10]\n",
      "Epoch 9: 100%|██████████| 285/285 [00:38<00:00,  7.47it/s, loss=2.41e-8] \n",
      "Epoch 10: 100%|██████████| 285/285 [00:38<00:00,  7.47it/s, loss=2.09e-10]\n",
      "Epoch 11: 100%|██████████| 285/285 [00:38<00:00,  7.47it/s, loss=2.09e-10]\n",
      "Epoch 12: 100%|██████████| 285/285 [00:38<00:00,  7.47it/s, loss=0]\n",
      "Epoch 13: 100%|██████████| 285/285 [00:38<00:00,  7.47it/s, loss=1.05e-10]\n",
      "Epoch 14: 100%|██████████| 285/285 [00:38<00:00,  7.47it/s, loss=6.27e-10]\n",
      "Epoch 15: 100%|██████████| 285/285 [00:38<00:00,  7.47it/s, loss=0]\n",
      "Epoch 16: 100%|██████████| 285/285 [00:38<00:00,  7.47it/s, loss=1.05e-10]\n",
      "Epoch 17: 100%|██████████| 285/285 [00:38<00:00,  7.48it/s, loss=0]\n",
      "Epoch 18: 100%|██████████| 285/285 [00:38<00:00,  7.47it/s, loss=1.05e-10]\n",
      "Epoch 19: 100%|██████████| 285/285 [00:38<00:00,  7.48it/s, loss=0]\n",
      "Epoch 20: 100%|██████████| 285/285 [00:38<00:00,  7.48it/s, loss=1.25e-9]\n",
      "Epoch 21: 100%|██████████| 285/285 [00:38<00:00,  7.48it/s, loss=2.09e-10]\n",
      "Epoch 22: 100%|██████████| 285/285 [00:38<00:00,  7.48it/s, loss=0]\n",
      "Epoch 23: 100%|██████████| 285/285 [00:38<00:00,  7.47it/s, loss=0]\n",
      "Epoch 24: 100%|██████████| 285/285 [00:38<00:00,  7.47it/s, loss=0]\n",
      "Epoch 25: 100%|██████████| 285/285 [00:38<00:00,  7.48it/s, loss=4.18e-10]\n",
      "Epoch 26: 100%|██████████| 285/285 [00:38<00:00,  7.47it/s, loss=1.05e-10]\n",
      "Epoch 27: 100%|██████████| 285/285 [00:38<00:00,  7.48it/s, loss=0]\n",
      "Epoch 28: 100%|██████████| 285/285 [00:38<00:00,  7.47it/s, loss=1.05e-10]\n",
      "Epoch 29: 100%|██████████| 285/285 [00:38<00:00,  7.48it/s, loss=1.05e-10]\n",
      "Epoch 30: 100%|██████████| 285/285 [00:38<00:00,  7.47it/s, loss=0]\n"
     ]
    },
    {
     "data": {
      "image/png": "[encoded data removed]",
      "text/plain": [
       "<Figure size 640x480 with 1 Axes>"
      ]
     },
     "metadata": {},
     "output_type": "display_data"
    },
    {
     "name": "stdout",
     "output_type": "stream",
     "text": [
      "Parameters: \n",
      "    Batch size: 8\n",
      "    Epochs: 25\n",
      "    Learning rate:1e-05\n"
     ]
    },
    {
     "name": "stderr",
     "output_type": "stream",
     "text": [
      "Epoch 1: 100%|██████████| 143/143 [00:32<00:00,  4.43it/s, loss=0]\n",
      "Epoch 2: 100%|██████████| 143/143 [00:32<00:00,  4.42it/s, loss=2.08e-10]\n",
      "Epoch 3: 100%|██████████| 143/143 [00:32<00:00,  4.42it/s, loss=1.04e-10]\n",
      "Epoch 4: 100%|██████████| 143/143 [00:32<00:00,  4.42it/s, loss=4.17e-10]\n",
      "Epoch 5: 100%|██████████| 143/143 [00:32<00:00,  4.42it/s, loss=0]\n",
      "Epoch 6: 100%|██████████| 143/143 [00:32<00:00,  4.42it/s, loss=1.04e-10]\n",
      "Epoch 7: 100%|██████████| 143/143 [00:32<00:00,  4.42it/s, loss=1.15e-9] \n",
      "Epoch 8: 100%|██████████| 143/143 [00:32<00:00,  4.43it/s, loss=0]\n",
      "Epoch 9: 100%|██████████| 143/143 [00:32<00:00,  4.42it/s, loss=0]\n",
      "Epoch 10: 100%|██████████| 143/143 [00:32<00:00,  4.42it/s, loss=1.04e-10]\n",
      "Epoch 11: 100%|██████████| 143/143 [00:32<00:00,  4.42it/s, loss=0]\n",
      "Epoch 12: 100%|██████████| 143/143 [00:32<00:00,  4.42it/s, loss=0]\n",
      "Epoch 13: 100%|██████████| 143/143 [00:32<00:00,  4.42it/s, loss=1.04e-10]\n",
      "Epoch 14: 100%|██████████| 143/143 [00:32<00:00,  4.42it/s, loss=1.04e-10]\n",
      "Epoch 15: 100%|██████████| 143/143 [00:32<00:00,  4.42it/s, loss=3.13e-10]\n",
      "Epoch 16: 100%|██████████| 143/143 [00:32<00:00,  4.43it/s, loss=1.04e-10]\n",
      "Epoch 17: 100%|██████████| 143/143 [00:32<00:00,  4.43it/s, loss=1.04e-10]\n",
      "Epoch 18: 100%|██████████| 143/143 [00:32<00:00,  4.42it/s, loss=0]\n",
      "Epoch 19: 100%|██████████| 143/143 [00:32<00:00,  4.42it/s, loss=1.04e-10]\n",
      "Epoch 20: 100%|██████████| 143/143 [00:32<00:00,  4.43it/s, loss=1.04e-10]\n",
      "Epoch 21: 100%|██████████| 143/143 [00:32<00:00,  4.42it/s, loss=0]\n",
      "Epoch 22: 100%|██████████| 143/143 [00:32<00:00,  4.42it/s, loss=1.04e-10]\n",
      "Epoch 23: 100%|██████████| 143/143 [00:32<00:00,  4.42it/s, loss=1.04e-10]\n",
      "Epoch 24: 100%|██████████| 143/143 [00:32<00:00,  4.42it/s, loss=0]\n",
      "Epoch 25: 100%|██████████| 143/143 [00:32<00:00,  4.42it/s, loss=2.08e-10]\n"
     ]
    },
    {
     "data": {
      "image/png": "[encoded data removed]",
      "text/plain": [
       "<Figure size 640x480 with 1 Axes>"
      ]
     },
     "metadata": {},
     "output_type": "display_data"
    },
    {
     "name": "stdout",
     "output_type": "stream",
     "text": [
      "Parameters: \n",
      "    Batch size: 8\n",
      "    Epochs: 25\n",
      "    Learning rate:0.0001\n"
     ]
    },
    {
     "name": "stderr",
     "output_type": "stream",
     "text": [
      "Epoch 1: 100%|██████████| 143/143 [00:32<00:00,  4.42it/s, loss=1.04e-10]\n",
      "Epoch 2: 100%|██████████| 143/143 [00:32<00:00,  4.42it/s, loss=0]\n",
      "Epoch 3: 100%|██████████| 143/143 [00:32<00:00,  4.43it/s, loss=1.04e-10]\n",
      "Epoch 4: 100%|██████████| 143/143 [00:32<00:00,  4.43it/s, loss=6.25e-10]\n",
      "Epoch 5: 100%|██████████| 143/143 [00:32<00:00,  4.43it/s, loss=1.15e-9] \n",
      "Epoch 6: 100%|██████████| 143/143 [00:32<00:00,  4.42it/s, loss=1.04e-10]\n",
      "Epoch 7: 100%|██████████| 143/143 [00:32<00:00,  4.42it/s, loss=3.13e-10]\n",
      "Epoch 8: 100%|██████████| 143/143 [00:32<00:00,  4.42it/s, loss=1.04e-10]\n",
      "Epoch 9: 100%|██████████| 143/143 [00:32<00:00,  4.43it/s, loss=0]\n",
      "Epoch 10: 100%|██████████| 143/143 [00:32<00:00,  4.43it/s, loss=0]\n",
      "Epoch 11: 100%|██████████| 143/143 [00:32<00:00,  4.43it/s, loss=0]\n",
      "Epoch 12: 100%|██████████| 143/143 [00:32<00:00,  4.43it/s, loss=0]\n",
      "Epoch 13: 100%|██████████| 143/143 [00:32<00:00,  4.42it/s, loss=1.04e-10]\n",
      "Epoch 14: 100%|██████████| 143/143 [00:32<00:00,  4.43it/s, loss=0]\n",
      "Epoch 15: 100%|██████████| 143/143 [00:32<00:00,  4.43it/s, loss=0]\n",
      "Epoch 16: 100%|██████████| 143/143 [00:32<00:00,  4.42it/s, loss=1.04e-10]\n",
      "Epoch 17: 100%|██████████| 143/143 [00:32<00:00,  4.43it/s, loss=1.04e-10]\n",
      "Epoch 18: 100%|██████████| 143/143 [00:32<00:00,  4.43it/s, loss=0]\n",
      "Epoch 19: 100%|██████████| 143/143 [00:32<00:00,  4.43it/s, loss=1.04e-10]\n",
      "Epoch 20: 100%|██████████| 143/143 [00:32<00:00,  4.43it/s, loss=1.04e-10]\n",
      "Epoch 21: 100%|██████████| 143/143 [00:32<00:00,  4.43it/s, loss=1.04e-10]\n",
      "Epoch 22: 100%|██████████| 143/143 [00:32<00:00,  4.43it/s, loss=1.04e-10]\n",
      "Epoch 23: 100%|██████████| 143/143 [00:32<00:00,  4.42it/s, loss=1.04e-10]\n",
      "Epoch 24: 100%|██████████| 143/143 [00:32<00:00,  4.42it/s, loss=0]\n",
      "Epoch 25: 100%|██████████| 143/143 [00:32<00:00,  4.42it/s, loss=0]\n"
     ]
    },
    {
     "data": {
      "image/png": "[encoded data removed]",
      "text/plain": [
       "<Figure size 640x480 with 1 Axes>"
      ]
     },
     "metadata": {},
     "output_type": "display_data"
    },
    {
     "name": "stdout",
     "output_type": "stream",
     "text": [
      "Parameters: \n",
      "    Batch size: 8\n",
      "    Epochs: 30\n",
      "    Learning rate:1e-05\n"
     ]
    },
    {
     "name": "stderr",
     "output_type": "stream",
     "text": [
      "Epoch 1: 100%|██████████| 143/143 [00:32<00:00,  4.42it/s, loss=4.69e-9]\n",
      "Epoch 2: 100%|██████████| 143/143 [00:32<00:00,  4.43it/s, loss=1.04e-10]\n",
      "Epoch 3: 100%|██████████| 143/143 [00:32<00:00,  4.43it/s, loss=0]\n",
      "Epoch 4: 100%|██████████| 143/143 [00:32<00:00,  4.42it/s, loss=0]\n",
      "Epoch 5: 100%|██████████| 143/143 [00:32<00:00,  4.43it/s, loss=0]\n",
      "Epoch 6: 100%|██████████| 143/143 [00:32<00:00,  4.43it/s, loss=3.13e-10]\n",
      "Epoch 7: 100%|██████████| 143/143 [00:32<00:00,  4.43it/s, loss=0]\n",
      "Epoch 8: 100%|██████████| 143/143 [00:32<00:00,  4.43it/s, loss=1.04e-10]\n",
      "Epoch 9: 100%|██████████| 143/143 [00:32<00:00,  4.43it/s, loss=0]\n",
      "Epoch 10: 100%|██████████| 143/143 [00:32<00:00,  4.43it/s, loss=1.04e-10]\n",
      "Epoch 11: 100%|██████████| 143/143 [00:32<00:00,  4.43it/s, loss=0]\n",
      "Epoch 12: 100%|██████████| 143/143 [00:32<00:00,  4.43it/s, loss=0]\n",
      "Epoch 13: 100%|██████████| 143/143 [00:32<00:00,  4.43it/s, loss=5.21e-10]\n",
      "Epoch 14: 100%|██████████| 143/143 [00:32<00:00,  4.43it/s, loss=6.25e-10]\n",
      "Epoch 15: 100%|██████████| 143/143 [00:32<00:00,  4.43it/s, loss=1.04e-10]\n",
      "Epoch 16: 100%|██████████| 143/143 [00:32<00:00,  4.43it/s, loss=0]\n",
      "Epoch 17: 100%|██████████| 143/143 [00:32<00:00,  4.43it/s, loss=0]\n",
      "Epoch 18: 100%|██████████| 143/143 [00:32<00:00,  4.43it/s, loss=0]\n",
      "Epoch 19: 100%|██████████| 143/143 [00:32<00:00,  4.43it/s, loss=0]\n",
      "Epoch 20: 100%|██████████| 143/143 [00:32<00:00,  4.43it/s, loss=1.04e-10]\n",
      "Epoch 21: 100%|██████████| 143/143 [00:32<00:00,  4.42it/s, loss=0]\n",
      "Epoch 22: 100%|██████████| 143/143 [00:32<00:00,  4.43it/s, loss=1.04e-10]\n",
      "Epoch 23: 100%|██████████| 143/143 [00:32<00:00,  4.42it/s, loss=1.04e-10]\n",
      "Epoch 24: 100%|██████████| 143/143 [00:32<00:00,  4.43it/s, loss=0]\n",
      "Epoch 25: 100%|██████████| 143/143 [00:32<00:00,  4.42it/s, loss=0]\n",
      "Epoch 26: 100%|██████████| 143/143 [00:32<00:00,  4.43it/s, loss=4.17e-10]\n",
      "Epoch 27: 100%|██████████| 143/143 [00:32<00:00,  4.43it/s, loss=1.04e-10]\n",
      "Epoch 28: 100%|██████████| 143/143 [00:32<00:00,  4.43it/s, loss=0]\n",
      "Epoch 29: 100%|██████████| 143/143 [00:32<00:00,  4.43it/s, loss=0]\n",
      "Epoch 30: 100%|██████████| 143/143 [00:32<00:00,  4.43it/s, loss=0]\n"
     ]
    },
    {
     "data": {
      "image/png": "[encoded data removed]",
      "text/plain": [
       "<Figure size 640x480 with 1 Axes>"
      ]
     },
     "metadata": {},
     "output_type": "display_data"
    },
    {
     "name": "stdout",
     "output_type": "stream",
     "text": [
      "Parameters: \n",
      "    Batch size: 8\n",
      "    Epochs: 30\n",
      "    Learning rate:0.0001\n"
     ]
    },
    {
     "name": "stderr",
     "output_type": "stream",
     "text": [
      "Epoch 1: 100%|██████████| 143/143 [00:32<00:00,  4.42it/s, loss=4.17e-10]\n",
      "Epoch 2: 100%|██████████| 143/143 [00:32<00:00,  4.42it/s, loss=0]\n",
      "Epoch 3: 100%|██████████| 143/143 [00:32<00:00,  4.43it/s, loss=0]\n",
      "Epoch 4: 100%|██████████| 143/143 [00:32<00:00,  4.42it/s, loss=0]\n",
      "Epoch 5: 100%|██████████| 143/143 [00:32<00:00,  4.42it/s, loss=0]\n",
      "Epoch 6: 100%|██████████| 143/143 [00:32<00:00,  4.43it/s, loss=0]\n",
      "Epoch 7: 100%|██████████| 143/143 [00:32<00:00,  4.43it/s, loss=3.13e-10]\n",
      "Epoch 8: 100%|██████████| 143/143 [00:32<00:00,  4.42it/s, loss=1.04e-10]\n",
      "Epoch 9: 100%|██████████| 143/143 [00:32<00:00,  4.42it/s, loss=0]\n",
      "Epoch 10: 100%|██████████| 143/143 [00:32<00:00,  4.42it/s, loss=2.08e-10]\n",
      "Epoch 11: 100%|██████████| 143/143 [00:32<00:00,  4.42it/s, loss=1.04e-10]\n",
      "Epoch 12: 100%|██████████| 143/143 [00:32<00:00,  4.42it/s, loss=1.04e-10]\n",
      "Epoch 13: 100%|██████████| 143/143 [00:32<00:00,  4.42it/s, loss=0]\n",
      "Epoch 14: 100%|██████████| 143/143 [00:32<00:00,  4.42it/s, loss=0]\n",
      "Epoch 15: 100%|██████████| 143/143 [00:32<00:00,  4.42it/s, loss=0]\n",
      "Epoch 16: 100%|██████████| 143/143 [00:32<00:00,  4.42it/s, loss=0]\n",
      "Epoch 17: 100%|██████████| 143/143 [00:32<00:00,  4.43it/s, loss=0]\n",
      "Epoch 18: 100%|██████████| 143/143 [00:32<00:00,  4.42it/s, loss=0]\n",
      "Epoch 19: 100%|██████████| 143/143 [00:32<00:00,  4.42it/s, loss=1.04e-10]\n",
      "Epoch 20: 100%|██████████| 143/143 [00:34<00:00,  4.17it/s, loss=1.04e-10]\n",
      "Epoch 21: 100%|██████████| 143/143 [00:36<00:00,  3.92it/s, loss=0]\n",
      "Epoch 22: 100%|██████████| 143/143 [00:35<00:00,  4.00it/s, loss=1.04e-10]\n",
      "Epoch 23: 100%|██████████| 143/143 [00:35<00:00,  4.01it/s, loss=0]\n",
      "Epoch 24: 100%|██████████| 143/143 [00:35<00:00,  4.03it/s, loss=1.04e-10]\n",
      "Epoch 25: 100%|██████████| 143/143 [00:35<00:00,  4.03it/s, loss=0]\n",
      "Epoch 26: 100%|██████████| 143/143 [00:35<00:00,  4.03it/s, loss=0]\n",
      "Epoch 27: 100%|██████████| 143/143 [00:35<00:00,  4.03it/s, loss=0]\n",
      "Epoch 28: 100%|██████████| 143/143 [00:35<00:00,  4.03it/s, loss=0]\n",
      "Epoch 29: 100%|██████████| 143/143 [00:35<00:00,  4.03it/s, loss=0]\n",
      "Epoch 30: 100%|██████████| 143/143 [00:36<00:00,  3.97it/s, loss=0]\n"
     ]
    },
    {
     "data": {
      "image/png": "[encoded data removed]",
      "text/plain": [
       "<Figure size 640x480 with 1 Axes>"
      ]
     },
     "metadata": {},
     "output_type": "display_data"
    }
   ],
   "source": [
    "# Parameters\n",
    "batch_size_list = [4, 8]\n",
    "epochs_list = [25, 30]\n",
    "learning_rate_list = [1e-5, 1e-4]\n",
    "\n",
    "for batch_size in batch_size_list:\n",
    "    for epochs in epochs_list:\n",
    "        for learning_rate in learning_rate_list:\n",
    "            model = BertForSequenceClassification.from_pretrained('bert-base-uncased').to(device)\n",
    "            \n",
    "            print(f'Parameters: \\n    Batch size: {batch_size}\\n    Epochs: {epochs}\\n    Learning rate:{learning_rate}\\n')\n",
    "            # Prepare for epoch_losses\n",
    "            epoch_losses = []\n",
    "            \n",
    "            # Create dataloader\n",
    "            train_dataloader = DataLoader(train_dataset, sampler=RandomSampler(train_dataset), batch_size=batch_size)\n",
    "            test_dataloader = DataLoader(test_dataset, sampler=SequentialSampler(test_dataset), batch_size=batch_size)\n",
    "            \n",
    "            # Optimizer\n",
    "            optimizer = AdamW(model.parameters(), lr=2e-5)\n",
    "            \n",
    "            model.train()\n",
    "            \n",
    "            # Training loop\n",
    "            for epoch in range(epochs):\n",
    "                total_loss = 0\n",
    "                progress_bar = tqdm(train_dataloader, desc=f\"Epoch {epoch+1}\")\n",
    "            \n",
    "                for batch in progress_bar:\n",
    "                    # b_input_ids, b_input_mask, b_labels = batch\n",
    "                    b_input_ids, b_input_mask, b_labels = batch[0].to(device), batch[1].to(device), batch[2].to(device)\n",
    "                    model.zero_grad()\n",
    "            \n",
    "                    outputs = model(b_input_ids, token_type_ids=None, attention_mask=b_input_mask, labels=b_labels)\n",
    "                    loss = outputs.loss\n",
    "                    total_loss += loss.item()\n",
    "                    loss.backward()\n",
    "                    optimizer.step()\n",
    "            \n",
    "                    # Update the progress bar\n",
    "                    progress_bar.set_postfix({'loss': total_loss/len(train_dataloader)})\n",
    "                    \n",
    "                # Calculate and store the average loss for this epoch\n",
    "                avg_loss = total_loss / len(train_dataloader)\n",
    "                epoch_losses.append(avg_loss)\n",
    "                \n",
    "                # Save the model after each epoch\n",
    "                # model_save_file = os.path.join(model_save_path, f'bert_model_epoch_{epoch+1}.pt')\n",
    "                # torch.save(model.state_dict(), model_save_file)\n",
    "            \n",
    "                # Closing the progress bar and printing the epoch loss\n",
    "                progress_bar.close()\n",
    "                # print(f\"Epoch {epoch+1} finished. Loss: {total_loss/len(train_dataloader)}\")\n",
    "            print(f'Loss on training: {epoch_losses}')\n",
    "\n",
    "            # Switch to evaluation mode\n",
    "            model.eval()\n",
    "            predictions, true_labels = [], []\n",
    "            # Add tqdm progress bar\n",
    "            for batch in tqdm(test_dataloader, desc=\"Evaluating\"):\n",
    "                batch = tuple(t.to(device) for t in batch)\n",
    "                b_input_ids, b_input_mask, b_labels = batch\n",
    "            \n",
    "                with torch.no_grad():\n",
    "                    outputs = model(b_input_ids, token_type_ids=None, attention_mask=b_input_mask)\n",
    "                \n",
    "                logits = outputs.logits\n",
    "                logits = logits.detach().cpu().numpy()\n",
    "                label_ids = b_labels.to('cpu').numpy()\n",
    "            \n",
    "                batch_preds = np.argmax(logits, axis=1)\n",
    "                predictions.extend(batch_preds)\n",
    "                true_labels.extend(label_ids)\n",
    "            \n",
    "            # Calculate the accuracy\n",
    "            accuracy = accuracy_score(true_labels, predictions)\n",
    "            print(f\"Accuracy on test set: {accuracy}\")\n",
    "\n",
    "            # Plotting the training loss\n",
    "            plt.plot(epoch_losses, label='Training Loss')\n",
    "            plt.xlabel('Epochs')\n",
    "            plt.ylabel('Loss')\n",
    "            plt.title('Training Loss Over Epochs')\n",
    "            plt.legend()\n",
    "            plt.show()"
   ]
  },
  {
   "cell_type": "markdown",
   "id": "4e32cb9c7a9fea54",
   "metadata": {
    "collapsed": false
   },
   "source": [
    "## Config 9"
   ]
  },
  {
   "cell_type": "code",
   "execution_count": 10,
   "id": "3b1881fd2537daf3",
   "metadata": {
    "collapsed": false
   },
   "outputs": [
    {
     "name": "stderr",
     "output_type": "stream",
     "text": [
      "Epoch 1: 100%|██████████| 570/570 [00:54<00:00, 10.47it/s, loss=0]\n"
     ]
    },
    {
     "name": "stdout",
     "output_type": "stream",
     "text": [
      "Epoch 1 finished. Loss: 0.0\n"
     ]
    },
    {
     "name": "stderr",
     "output_type": "stream",
     "text": [
      "Epoch 2: 100%|██████████| 570/570 [00:56<00:00, 10.15it/s, loss=1.05e-10]\n"
     ]
    },
    {
     "name": "stdout",
     "output_type": "stream",
     "text": [
      "Epoch 2 finished. Loss: 1.045695460046964e-10\n"
     ]
    },
    {
     "name": "stderr",
     "output_type": "stream",
     "text": [
      "Epoch 3: 100%|██████████| 570/570 [00:51<00:00, 11.06it/s, loss=0]\n"
     ]
    },
    {
     "name": "stdout",
     "output_type": "stream",
     "text": [
      "Epoch 3 finished. Loss: 0.0\n"
     ]
    },
    {
     "name": "stderr",
     "output_type": "stream",
     "text": [
      "Epoch 4: 100%|██████████| 570/570 [00:51<00:00, 11.07it/s, loss=0]\n"
     ]
    },
    {
     "name": "stdout",
     "output_type": "stream",
     "text": [
      "Epoch 4 finished. Loss: 0.0\n"
     ]
    },
    {
     "name": "stderr",
     "output_type": "stream",
     "text": [
      "Epoch 5: 100%|██████████| 570/570 [00:51<00:00, 11.05it/s, loss=0]\n"
     ]
    },
    {
     "name": "stdout",
     "output_type": "stream",
     "text": [
      "Epoch 5 finished. Loss: 0.0\n"
     ]
    },
    {
     "name": "stderr",
     "output_type": "stream",
     "text": [
      "Epoch 6: 100%|██████████| 570/570 [00:51<00:00, 11.07it/s, loss=0]\n"
     ]
    },
    {
     "name": "stdout",
     "output_type": "stream",
     "text": [
      "Epoch 6 finished. Loss: 0.0\n"
     ]
    },
    {
     "name": "stderr",
     "output_type": "stream",
     "text": [
      "Epoch 7: 100%|██████████| 570/570 [00:51<00:00, 11.02it/s, loss=0]\n"
     ]
    },
    {
     "name": "stdout",
     "output_type": "stream",
     "text": [
      "Epoch 7 finished. Loss: 0.0\n"
     ]
    },
    {
     "name": "stderr",
     "output_type": "stream",
     "text": [
      "Epoch 8: 100%|██████████| 570/570 [00:51<00:00, 11.07it/s, loss=1.05e-10]\n"
     ]
    },
    {
     "name": "stdout",
     "output_type": "stream",
     "text": [
      "Epoch 8 finished. Loss: 1.045695460046964e-10\n"
     ]
    },
    {
     "name": "stderr",
     "output_type": "stream",
     "text": [
      "Epoch 9: 100%|██████████| 570/570 [00:51<00:00, 11.06it/s, loss=0]\n"
     ]
    },
    {
     "name": "stdout",
     "output_type": "stream",
     "text": [
      "Epoch 9 finished. Loss: 0.0\n"
     ]
    },
    {
     "name": "stderr",
     "output_type": "stream",
     "text": [
      "Epoch 10: 100%|██████████| 570/570 [00:51<00:00, 11.05it/s, loss=0]\n"
     ]
    },
    {
     "name": "stdout",
     "output_type": "stream",
     "text": [
      "Epoch 10 finished. Loss: 0.0\n"
     ]
    },
    {
     "name": "stderr",
     "output_type": "stream",
     "text": [
      "Epoch 11: 100%|██████████| 570/570 [00:51<00:00, 11.04it/s, loss=0]\n"
     ]
    },
    {
     "name": "stdout",
     "output_type": "stream",
     "text": [
      "Epoch 11 finished. Loss: 0.0\n"
     ]
    },
    {
     "name": "stderr",
     "output_type": "stream",
     "text": [
      "Epoch 12: 100%|██████████| 570/570 [00:51<00:00, 11.08it/s, loss=0]\n"
     ]
    },
    {
     "name": "stdout",
     "output_type": "stream",
     "text": [
      "Epoch 12 finished. Loss: 0.0\n"
     ]
    },
    {
     "name": "stderr",
     "output_type": "stream",
     "text": [
      "Epoch 13: 100%|██████████| 570/570 [00:51<00:00, 11.05it/s, loss=0]\n"
     ]
    },
    {
     "name": "stdout",
     "output_type": "stream",
     "text": [
      "Epoch 13 finished. Loss: 0.0\n"
     ]
    },
    {
     "name": "stderr",
     "output_type": "stream",
     "text": [
      "Epoch 14: 100%|██████████| 570/570 [00:51<00:00, 11.06it/s, loss=1.05e-10]\n"
     ]
    },
    {
     "name": "stdout",
     "output_type": "stream",
     "text": [
      "Epoch 14 finished. Loss: 1.045695460046964e-10\n"
     ]
    },
    {
     "name": "stderr",
     "output_type": "stream",
     "text": [
      "Epoch 15: 100%|██████████| 570/570 [00:51<00:00, 11.02it/s, loss=0]\n"
     ]
    },
    {
     "name": "stdout",
     "output_type": "stream",
     "text": [
      "Epoch 15 finished. Loss: 0.0\n"
     ]
    },
    {
     "name": "stderr",
     "output_type": "stream",
     "text": [
      "Epoch 16: 100%|██████████| 570/570 [00:51<00:00, 11.04it/s, loss=0]\n"
     ]
    },
    {
     "name": "stdout",
     "output_type": "stream",
     "text": [
      "Epoch 16 finished. Loss: 0.0\n"
     ]
    },
    {
     "name": "stderr",
     "output_type": "stream",
     "text": [
      "Epoch 17: 100%|██████████| 570/570 [00:51<00:00, 11.03it/s, loss=0]\n"
     ]
    },
    {
     "name": "stdout",
     "output_type": "stream",
     "text": [
      "Epoch 17 finished. Loss: 0.0\n"
     ]
    },
    {
     "name": "stderr",
     "output_type": "stream",
     "text": [
      "Epoch 18: 100%|██████████| 570/570 [00:51<00:00, 11.05it/s, loss=1.05e-10]\n"
     ]
    },
    {
     "name": "stdout",
     "output_type": "stream",
     "text": [
      "Epoch 18 finished. Loss: 1.045695460046964e-10\n"
     ]
    },
    {
     "name": "stderr",
     "output_type": "stream",
     "text": [
      "Epoch 19: 100%|██████████| 570/570 [00:51<00:00, 11.03it/s, loss=0]\n"
     ]
    },
    {
     "name": "stdout",
     "output_type": "stream",
     "text": [
      "Epoch 19 finished. Loss: 0.0\n"
     ]
    },
    {
     "name": "stderr",
     "output_type": "stream",
     "text": [
      "Epoch 20: 100%|██████████| 570/570 [00:51<00:00, 11.04it/s, loss=1.05e-10]\n"
     ]
    },
    {
     "name": "stdout",
     "output_type": "stream",
     "text": [
      "Epoch 20 finished. Loss: 1.045695460046964e-10\n"
     ]
    },
    {
     "name": "stderr",
     "output_type": "stream",
     "text": [
      "Epoch 21: 100%|██████████| 570/570 [00:51<00:00, 11.01it/s, loss=0]\n"
     ]
    },
    {
     "name": "stdout",
     "output_type": "stream",
     "text": [
      "Epoch 21 finished. Loss: 0.0\n"
     ]
    },
    {
     "name": "stderr",
     "output_type": "stream",
     "text": [
      "Epoch 22: 100%|██████████| 570/570 [00:51<00:00, 11.06it/s, loss=0]\n"
     ]
    },
    {
     "name": "stdout",
     "output_type": "stream",
     "text": [
      "Epoch 22 finished. Loss: 0.0\n"
     ]
    },
    {
     "name": "stderr",
     "output_type": "stream",
     "text": [
      "Epoch 23: 100%|██████████| 570/570 [00:51<00:00, 11.04it/s, loss=0]\n"
     ]
    },
    {
     "name": "stdout",
     "output_type": "stream",
     "text": [
      "Epoch 23 finished. Loss: 0.0\n"
     ]
    },
    {
     "name": "stderr",
     "output_type": "stream",
     "text": [
      "Epoch 24: 100%|██████████| 570/570 [00:51<00:00, 11.01it/s, loss=0]\n"
     ]
    },
    {
     "name": "stdout",
     "output_type": "stream",
     "text": [
      "Epoch 24 finished. Loss: 0.0\n"
     ]
    },
    {
     "name": "stderr",
     "output_type": "stream",
     "text": [
      "Epoch 25: 100%|██████████| 570/570 [00:51<00:00, 11.03it/s, loss=0]\n"
     ]
    },
    {
     "name": "stdout",
     "output_type": "stream",
     "text": [
      "Epoch 25 finished. Loss: 0.0\n"
     ]
    },
    {
     "data": {
      "image/png": "[encoded data removed]",
      "text/plain": [
       "<Figure size 640x480 with 1 Axes>"
      ]
     },
     "metadata": {},
     "output_type": "display_data"
    }
   ],
   "source": [
    "epochs = 25\n",
    "batch_size = 2\n",
    "# Prepare for epoch_losses\n",
    "epoch_losses = []\n",
    "\n",
    "# Create dataloader\n",
    "train_dataloader = DataLoader(train_dataset, sampler=RandomSampler(train_dataset), batch_size=batch_size)\n",
    "test_dataloader = DataLoader(test_dataset, sampler=SequentialSampler(test_dataset), batch_size=batch_size)\n",
    "\n",
    "model = BertForSequenceClassification.from_pretrained('bert-base-uncased').to(device)\n",
    "# Optimizer\n",
    "optimizer = AdamW(model.parameters(), lr=1e-6)\n",
    "\n",
    "model.train()\n",
    "# Training loop\n",
    "for epoch in range(epochs):\n",
    "    total_loss = 0\n",
    "    progress_bar = tqdm(train_dataloader, desc=f\"Epoch {epoch+1}\")\n",
    "\n",
    "    for batch in progress_bar:\n",
    "        # b_input_ids, b_input_mask, b_labels = batch\n",
    "        b_input_ids, b_input_mask, b_labels = batch[0].to(device), batch[1].to(device), batch[2].to(device)\n",
    "        model.zero_grad()\n",
    "\n",
    "        outputs = model(b_input_ids, token_type_ids=None, attention_mask=b_input_mask, labels=b_labels)\n",
    "        loss = outputs.loss\n",
    "        total_loss += loss.item()\n",
    "        loss.backward()\n",
    "        optimizer.step()\n",
    "\n",
    "        # Update the progress bar\n",
    "        progress_bar.set_postfix({'loss': total_loss/len(train_dataloader)})\n",
    "        \n",
    "    # Calculate and store the average loss for this epoch\n",
    "    avg_loss = total_loss / len(train_dataloader)\n",
    "    epoch_losses.append(avg_loss)\n",
    "    \n",
    "    # Save the model after each epoch\n",
    "    # model_save_file = os.path.join(model_save_path, f'bert_model_epoch_{epoch+1}.pt')\n",
    "    # torch.save(model.state_dict(), model_save_file)\n",
    "\n",
    "    # Closing the progress bar and printing the epoch loss\n",
    "    progress_bar.close()\n",
    "    print(f\"Epoch {epoch+1} finished. Loss: {total_loss/len(train_dataloader)}\")\n",
    "\n",
    "    # Switch to evaluation mode\n",
    "    model.eval()\n",
    "    predictions, true_labels = [], []\n",
    "    # Add tqdm progress bar\n",
    "    for batch in tqdm(test_dataloader, desc=\"Evaluating\"):\n",
    "        batch = tuple(t.to(device) for t in batch)\n",
    "        b_input_ids, b_input_mask, b_labels = batch\n",
    "    \n",
    "        with torch.no_grad():\n",
    "            outputs = model(b_input_ids, token_type_ids=None, attention_mask=b_input_mask)\n",
    "        \n",
    "        logits = outputs.logits\n",
    "        logits = logits.detach().cpu().numpy()\n",
    "        label_ids = b_labels.to('cpu').numpy()\n",
    "    \n",
    "        batch_preds = np.argmax(logits, axis=1)\n",
    "        predictions.extend(batch_preds)\n",
    "        true_labels.extend(label_ids)\n",
    "    \n",
    "    # Calculate the accuracy\n",
    "    accuracy = accuracy_score(true_labels, predictions)\n",
    "    print(f\"Accuracy on test set: {accuracy}\")\n",
    "\n",
    "    # Plotting the training loss\n",
    "    plt.plot(epoch_losses, label='Training Loss')\n",
    "    plt.xlabel('Epochs')\n",
    "    plt.ylabel('Loss')\n",
    "    plt.title('Training Loss Over Epochs')\n",
    "    plt.legend()\n",
    "    plt.show()"
   ]
  },
  {
   "cell_type": "markdown",
   "id": "a23c15225f1d5a1e",
   "metadata": {
    "collapsed": false
   },
   "source": [
    "## Config 10"
   ]
  },
  {
   "cell_type": "code",
   "execution_count": 11,
   "id": "55e1130d4b692390",
   "metadata": {
    "collapsed": false
   },
   "outputs": [
    {
     "name": "stderr",
     "output_type": "stream",
     "text": [
      "Epoch 1: 100%|██████████| 143/143 [00:34<00:00,  4.17it/s, loss=1.04e-10]\n"
     ]
    },
    {
     "name": "stdout",
     "output_type": "stream",
     "text": [
      "Epoch 1 finished. Loss: 1.042039182214632e-10\n"
     ]
    },
    {
     "name": "stderr",
     "output_type": "stream",
     "text": [
      "Epoch 2: 100%|██████████| 143/143 [00:34<00:00,  4.17it/s, loss=0]\n"
     ]
    },
    {
     "name": "stdout",
     "output_type": "stream",
     "text": [
      "Epoch 2 finished. Loss: 0.0\n"
     ]
    },
    {
     "name": "stderr",
     "output_type": "stream",
     "text": [
      "Epoch 3: 100%|██████████| 143/143 [00:34<00:00,  4.17it/s, loss=3.13e-10]\n"
     ]
    },
    {
     "name": "stdout",
     "output_type": "stream",
     "text": [
      "Epoch 3 finished. Loss: 3.126117236092001e-10\n"
     ]
    },
    {
     "name": "stderr",
     "output_type": "stream",
     "text": [
      "Epoch 4: 100%|██████████| 143/143 [00:34<00:00,  4.17it/s, loss=0]\n"
     ]
    },
    {
     "name": "stdout",
     "output_type": "stream",
     "text": [
      "Epoch 4 finished. Loss: 0.0\n"
     ]
    },
    {
     "name": "stderr",
     "output_type": "stream",
     "text": [
      "Epoch 5: 100%|██████████| 143/143 [00:34<00:00,  4.16it/s, loss=1.04e-10]\n"
     ]
    },
    {
     "name": "stdout",
     "output_type": "stream",
     "text": [
      "Epoch 5 finished. Loss: 1.042039182214632e-10\n"
     ]
    },
    {
     "name": "stderr",
     "output_type": "stream",
     "text": [
      "Epoch 6: 100%|██████████| 143/143 [00:34<00:00,  4.17it/s, loss=0]\n"
     ]
    },
    {
     "name": "stdout",
     "output_type": "stream",
     "text": [
      "Epoch 6 finished. Loss: 0.0\n"
     ]
    },
    {
     "name": "stderr",
     "output_type": "stream",
     "text": [
      "Epoch 7: 100%|██████████| 143/143 [00:34<00:00,  4.16it/s, loss=0]\n"
     ]
    },
    {
     "name": "stdout",
     "output_type": "stream",
     "text": [
      "Epoch 7 finished. Loss: 0.0\n"
     ]
    },
    {
     "name": "stderr",
     "output_type": "stream",
     "text": [
      "Epoch 8: 100%|██████████| 143/143 [00:34<00:00,  4.17it/s, loss=0]\n"
     ]
    },
    {
     "name": "stdout",
     "output_type": "stream",
     "text": [
      "Epoch 8 finished. Loss: 0.0\n"
     ]
    },
    {
     "name": "stderr",
     "output_type": "stream",
     "text": [
      "Epoch 9: 100%|██████████| 143/143 [00:34<00:00,  4.16it/s, loss=1.04e-10]\n"
     ]
    },
    {
     "name": "stdout",
     "output_type": "stream",
     "text": [
      "Epoch 9 finished. Loss: 1.042039182214632e-10\n"
     ]
    },
    {
     "name": "stderr",
     "output_type": "stream",
     "text": [
      "Epoch 10: 100%|██████████| 143/143 [00:34<00:00,  4.15it/s, loss=0]\n"
     ]
    },
    {
     "name": "stdout",
     "output_type": "stream",
     "text": [
      "Epoch 10 finished. Loss: 0.0\n"
     ]
    },
    {
     "name": "stderr",
     "output_type": "stream",
     "text": [
      "Epoch 11: 100%|██████████| 143/143 [00:34<00:00,  4.16it/s, loss=0]\n"
     ]
    },
    {
     "name": "stdout",
     "output_type": "stream",
     "text": [
      "Epoch 11 finished. Loss: 0.0\n"
     ]
    },
    {
     "name": "stderr",
     "output_type": "stream",
     "text": [
      "Epoch 12: 100%|██████████| 143/143 [00:34<00:00,  4.17it/s, loss=0]\n"
     ]
    },
    {
     "name": "stdout",
     "output_type": "stream",
     "text": [
      "Epoch 12 finished. Loss: 0.0\n"
     ]
    },
    {
     "name": "stderr",
     "output_type": "stream",
     "text": [
      "Epoch 13: 100%|██████████| 143/143 [00:34<00:00,  4.16it/s, loss=0]\n"
     ]
    },
    {
     "name": "stdout",
     "output_type": "stream",
     "text": [
      "Epoch 13 finished. Loss: 0.0\n"
     ]
    },
    {
     "name": "stderr",
     "output_type": "stream",
     "text": [
      "Epoch 14: 100%|██████████| 143/143 [00:34<00:00,  4.17it/s, loss=1.04e-10]\n"
     ]
    },
    {
     "name": "stdout",
     "output_type": "stream",
     "text": [
      "Epoch 14 finished. Loss: 1.042039182214632e-10\n"
     ]
    },
    {
     "name": "stderr",
     "output_type": "stream",
     "text": [
      "Epoch 15: 100%|██████████| 143/143 [00:34<00:00,  4.17it/s, loss=0]\n"
     ]
    },
    {
     "name": "stdout",
     "output_type": "stream",
     "text": [
      "Epoch 15 finished. Loss: 0.0\n"
     ]
    },
    {
     "name": "stderr",
     "output_type": "stream",
     "text": [
      "Epoch 16: 100%|██████████| 143/143 [00:34<00:00,  4.16it/s, loss=2.08e-10]\n"
     ]
    },
    {
     "name": "stdout",
     "output_type": "stream",
     "text": [
      "Epoch 16 finished. Loss: 2.0840782402085058e-10\n"
     ]
    },
    {
     "name": "stderr",
     "output_type": "stream",
     "text": [
      "Epoch 17: 100%|██████████| 143/143 [00:34<00:00,  4.16it/s, loss=2.08e-10]\n"
     ]
    },
    {
     "name": "stdout",
     "output_type": "stream",
     "text": [
      "Epoch 17 finished. Loss: 2.084078364429264e-10\n"
     ]
    },
    {
     "name": "stderr",
     "output_type": "stream",
     "text": [
      "Epoch 18: 100%|██████████| 143/143 [00:34<00:00,  4.16it/s, loss=0]\n"
     ]
    },
    {
     "name": "stdout",
     "output_type": "stream",
     "text": [
      "Epoch 18 finished. Loss: 0.0\n"
     ]
    },
    {
     "name": "stderr",
     "output_type": "stream",
     "text": [
      "Epoch 19: 100%|██████████| 143/143 [00:34<00:00,  4.16it/s, loss=2.08e-10]\n"
     ]
    },
    {
     "name": "stdout",
     "output_type": "stream",
     "text": [
      "Epoch 19 finished. Loss: 2.084078364429264e-10\n"
     ]
    },
    {
     "name": "stderr",
     "output_type": "stream",
     "text": [
      "Epoch 20: 100%|██████████| 143/143 [00:34<00:00,  4.16it/s, loss=0]\n"
     ]
    },
    {
     "name": "stdout",
     "output_type": "stream",
     "text": [
      "Epoch 20 finished. Loss: 0.0\n"
     ]
    },
    {
     "name": "stderr",
     "output_type": "stream",
     "text": [
      "Epoch 21: 100%|██████████| 143/143 [00:34<00:00,  4.17it/s, loss=0]\n"
     ]
    },
    {
     "name": "stdout",
     "output_type": "stream",
     "text": [
      "Epoch 21 finished. Loss: 0.0\n"
     ]
    },
    {
     "name": "stderr",
     "output_type": "stream",
     "text": [
      "Epoch 22: 100%|██████████| 143/143 [00:34<00:00,  4.16it/s, loss=0]\n"
     ]
    },
    {
     "name": "stdout",
     "output_type": "stream",
     "text": [
      "Epoch 22 finished. Loss: 0.0\n"
     ]
    },
    {
     "name": "stderr",
     "output_type": "stream",
     "text": [
      "Epoch 23: 100%|██████████| 143/143 [00:34<00:00,  4.16it/s, loss=0]\n"
     ]
    },
    {
     "name": "stdout",
     "output_type": "stream",
     "text": [
      "Epoch 23 finished. Loss: 0.0\n"
     ]
    },
    {
     "name": "stderr",
     "output_type": "stream",
     "text": [
      "Epoch 24: 100%|██████████| 143/143 [00:34<00:00,  4.17it/s, loss=1.04e-10]\n"
     ]
    },
    {
     "name": "stdout",
     "output_type": "stream",
     "text": [
      "Epoch 24 finished. Loss: 1.042039182214632e-10\n"
     ]
    },
    {
     "name": "stderr",
     "output_type": "stream",
     "text": [
      "Epoch 25: 100%|██████████| 143/143 [00:34<00:00,  4.17it/s, loss=0]"
     ]
    },
    {
     "name": "stdout",
     "output_type": "stream",
     "text": [
      "Epoch 25 finished. Loss: 0.0\n"
     ]
    },
    {
     "name": "stderr",
     "output_type": "stream",
     "text": [
      "\n"
     ]
    }
   ],
   "source": [
    "epochs = 25\n",
    "batch_size = 8\n",
    "# Prepare for epoch_losses\n",
    "epoch_losses = []\n",
    "\n",
    "# Create dataloader\n",
    "train_dataloader = DataLoader(train_dataset, sampler=RandomSampler(train_dataset), batch_size=batch_size)\n",
    "test_dataloader = DataLoader(test_dataset, sampler=SequentialSampler(test_dataset), batch_size=batch_size)\n",
    "\n",
    "model = BertForSequenceClassification.from_pretrained('bert-base-uncased').to(device)\n",
    "# Optimizer\n",
    "optimizer = AdamW(model.parameters(), lr=2e-5)\n",
    "\n",
    "model.train()\n",
    "# Training loop\n",
    "for epoch in range(epochs):\n",
    "    total_loss = 0\n",
    "    progress_bar = tqdm(train_dataloader, desc=f\"Epoch {epoch+1}\")\n",
    "\n",
    "    for batch in progress_bar:\n",
    "        # b_input_ids, b_input_mask, b_labels = batch\n",
    "        b_input_ids, b_input_mask, b_labels = batch[0].to(device), batch[1].to(device), batch[2].to(device)\n",
    "        model.zero_grad()\n",
    "\n",
    "        outputs = model(b_input_ids, token_type_ids=None, attention_mask=b_input_mask, labels=b_labels)\n",
    "        loss = outputs.loss\n",
    "        total_loss += loss.item()\n",
    "        loss.backward()\n",
    "        optimizer.step()\n",
    "\n",
    "        # Update the progress bar\n",
    "        progress_bar.set_postfix({'loss': total_loss/len(train_dataloader)})\n",
    "        \n",
    "    # Calculate and store the average loss for this epoch\n",
    "    avg_loss = total_loss / len(train_dataloader)\n",
    "    epoch_losses.append(avg_loss)\n",
    "    \n",
    "    # Save the model after each epoch\n",
    "    # model_save_file = os.path.join(model_save_path, f'bert_model_epoch_{epoch+1}.pt')\n",
    "    # torch.save(model.state_dict(), model_save_file)\n",
    "\n",
    "    # Closing the progress bar and printing the epoch loss\n",
    "    progress_bar.close()\n",
    "    print(f\"Epoch {epoch+1} finished. Loss: {total_loss/len(train_dataloader)}\")"
   ]
  },
  {
   "cell_type": "code",
   "execution_count": 12,
   "id": "396c4dac",
   "metadata": {},
   "outputs": [
    {
     "name": "stdout",
     "output_type": "stream",
     "text": [
      "Training Parameters:\n",
      "Batch Size: 8\n",
      "Epochs: 25\n",
      "Learning Rate: 2e-05\n",
      "Beta1: 0.9\n",
      "Beta2: 0.999\n",
      "Training completed. Final model saved to models\\bert_final_model_1.pt\n"
     ]
    }
   ],
   "source": [
    "model_save_path = 'models'  \n",
    "os.makedirs(model_save_path, exist_ok=True)\n",
    "final_model_save_file = os.path.join(model_save_path, 'bert_final_model_1.pt')\n",
    "torch.save(model.state_dict(), final_model_save_file)\n",
    "\n",
    "# print paramter\n",
    "print(\"Training Parameters:\")\n",
    "print(f\"Batch Size: {batch_size}\")\n",
    "print(f\"Epochs: {epochs}\")\n",
    "print(f\"Learning Rate: {optimizer.defaults['lr']}\")\n",
    "print(f\"Beta1: {optimizer.defaults['betas'][0]}\")\n",
    "print(f\"Beta2: {optimizer.defaults['betas'][1]}\")\n",
    "\n",
    "print(f\"Training completed. Final model saved to {final_model_save_file}\")"
   ]
  },
  {
   "cell_type": "code",
   "execution_count": 13,
   "id": "57af6c7d",
   "metadata": {},
   "outputs": [
    {
     "data": {
      "image/png": "[encoded data removed]",
      "text/plain": [
       "<Figure size 640x480 with 1 Axes>"
      ]
     },
     "metadata": {},
     "output_type": "display_data"
    }
   ],
   "source": [
    "# Plotting the training loss\n",
    "plt.plot(epoch_losses, label='Training Loss')\n",
    "plt.xlabel('Epochs')\n",
    "plt.ylabel('Loss')\n",
    "plt.title('Training Loss Over Epochs')\n",
    "plt.legend()\n",
    "plt.show()"
   ]
  },
  {
   "cell_type": "markdown",
   "id": "f0b6d5d9",
   "metadata": {},
   "source": [
    "### Evulation "
   ]
  },
  {
   "cell_type": "code",
   "execution_count": 14,
   "id": "2598b529f5b9ffaa",
   "metadata": {
    "collapsed": false
   },
   "outputs": [
    {
     "name": "stderr",
     "output_type": "stream",
     "text": [
      "Evaluating: 100%|██████████| 62/62 [00:04<00:00, 13.50it/s]"
     ]
    },
    {
     "name": "stdout",
     "output_type": "stream",
     "text": [
      "Accuracy: 0.9366053169734151\n"
     ]
    },
    {
     "name": "stderr",
     "output_type": "stream",
     "text": [
      "\n"
     ]
    }
   ],
   "source": [
    "device = 'cuda' if torch.cuda.is_available() else 'cpu'\n",
    "\n",
    "# Switch to evaluation mode\n",
    "model.eval()\n",
    "\n",
    "predictions, true_labels = [], []\n",
    "\n",
    "# Add tqdm progress bar\n",
    "for batch in tqdm(test_dataloader, desc=\"Evaluating\"):\n",
    "    batch = tuple(t.to(device) for t in batch)\n",
    "    b_input_ids, b_input_mask, b_labels = batch\n",
    "\n",
    "    with torch.no_grad():\n",
    "        outputs = model(b_input_ids, token_type_ids=None, attention_mask=b_input_mask)\n",
    "    \n",
    "    logits = outputs.logits\n",
    "    logits = logits.detach().cpu().numpy()\n",
    "    label_ids = b_labels.to('cpu').numpy()\n",
    "\n",
    "    batch_preds = np.argmax(logits, axis=1)\n",
    "    predictions.extend(batch_preds)\n",
    "    true_labels.extend(label_ids)\n",
    "\n",
    "# Calculate the accuracy\n",
    "accuracy = accuracy_score(true_labels, predictions)\n",
    "print(f\"Accuracy on test set: {accuracy}\")\n"
   ]
  },
  {
   "cell_type": "markdown",
   "id": "e4de4e7b",
   "metadata": {},
   "source": [
    "### K-Fold"
   ]
  },
  {
   "cell_type": "code",
   "execution_count": 15,
   "id": "c1e96fd8",
   "metadata": {},
   "outputs": [
    {
     "name": "stdout",
     "output_type": "stream",
     "text": [
      "FOLD 0\n",
      "-------------------------------\n"
     ]
    },
    {
     "name": "stderr",
     "output_type": "stream",
     "text": [
      "Some weights of BertForSequenceClassification were not initialized from the model checkpoint at bert-base-uncased and are newly initialized: ['classifier.weight', 'classifier.bias']\n",
      "You should probably TRAIN this model on a down-stream task to be able to use it for predictions and inference.\n",
      "c:\\Users\\Andy Cui\\.conda\\envs\\nlp\\lib\\site-packages\\transformers\\optimization.py:411: FutureWarning: This implementation of AdamW is deprecated and will be removed in a future version. Use the PyTorch implementation torch.optim.AdamW instead, or set `no_deprecation_warning=True` to disable this warning\n",
      "  warnings.warn(\n",
      "Training Epoch 1/2, Fold 1/10: 100%|██████████| 184/184 [00:44<00:00,  4.17it/s, loss=0.325]\n",
      "Training Epoch 2/2, Fold 1/10: 100%|██████████| 184/184 [00:44<00:00,  4.16it/s, loss=0.123]\n",
      "Validation, Fold 1/10: 100%|██████████| 21/21 [00:01<00:00, 13.73it/s]\n"
     ]
    },
    {
     "name": "stdout",
     "output_type": "stream",
     "text": [
      "Validation accuracy: 0.9285714285714286\n",
      "FOLD 1\n",
      "-------------------------------\n"
     ]
    },
    {
     "name": "stderr",
     "output_type": "stream",
     "text": [
      "Some weights of BertForSequenceClassification were not initialized from the model checkpoint at bert-base-uncased and are newly initialized: ['classifier.weight', 'classifier.bias']\n",
      "You should probably TRAIN this model on a down-stream task to be able to use it for predictions and inference.\n",
      "Training Epoch 1/2, Fold 2/10: 100%|██████████| 184/184 [00:44<00:00,  4.17it/s, loss=0.338]\n",
      "Training Epoch 2/2, Fold 2/10: 100%|██████████| 184/184 [00:44<00:00,  4.16it/s, loss=0.136]\n",
      "Validation, Fold 2/10: 100%|██████████| 21/21 [00:01<00:00, 13.58it/s]\n"
     ]
    },
    {
     "name": "stdout",
     "output_type": "stream",
     "text": [
      "Validation accuracy: 0.9226190476190477\n",
      "FOLD 2\n",
      "-------------------------------\n"
     ]
    },
    {
     "name": "stderr",
     "output_type": "stream",
     "text": [
      "Some weights of BertForSequenceClassification were not initialized from the model checkpoint at bert-base-uncased and are newly initialized: ['classifier.weight', 'classifier.bias']\n",
      "You should probably TRAIN this model on a down-stream task to be able to use it for predictions and inference.\n",
      "Training Epoch 1/2, Fold 3/10: 100%|██████████| 184/184 [00:44<00:00,  4.16it/s, loss=0.366]\n",
      "Training Epoch 2/2, Fold 3/10: 100%|██████████| 184/184 [00:44<00:00,  4.16it/s, loss=0.155]\n",
      "Validation, Fold 3/10: 100%|██████████| 21/21 [00:01<00:00, 13.49it/s]\n"
     ]
    },
    {
     "name": "stdout",
     "output_type": "stream",
     "text": [
      "Validation accuracy: 0.9404761904761905\n",
      "FOLD 3\n",
      "-------------------------------\n"
     ]
    },
    {
     "name": "stderr",
     "output_type": "stream",
     "text": [
      "Some weights of BertForSequenceClassification were not initialized from the model checkpoint at bert-base-uncased and are newly initialized: ['classifier.weight', 'classifier.bias']\n",
      "You should probably TRAIN this model on a down-stream task to be able to use it for predictions and inference.\n",
      "Training Epoch 1/2, Fold 4/10: 100%|██████████| 184/184 [00:44<00:00,  4.17it/s, loss=0.332]\n",
      "Training Epoch 2/2, Fold 4/10: 100%|██████████| 184/184 [00:44<00:00,  4.13it/s, loss=0.132]\n",
      "Validation, Fold 4/10: 100%|██████████| 21/21 [00:01<00:00, 13.45it/s]\n"
     ]
    },
    {
     "name": "stdout",
     "output_type": "stream",
     "text": [
      "Validation accuracy: 0.9007936507936508\n",
      "FOLD 4\n",
      "-------------------------------\n"
     ]
    },
    {
     "name": "stderr",
     "output_type": "stream",
     "text": [
      "Some weights of BertForSequenceClassification were not initialized from the model checkpoint at bert-base-uncased and are newly initialized: ['classifier.weight', 'classifier.bias']\n",
      "You should probably TRAIN this model on a down-stream task to be able to use it for predictions and inference.\n",
      "Training Epoch 1/2, Fold 5/10: 100%|██████████| 184/184 [00:44<00:00,  4.16it/s, loss=0.35] \n",
      "Training Epoch 2/2, Fold 5/10: 100%|██████████| 184/184 [00:44<00:00,  4.16it/s, loss=0.139]\n",
      "Validation, Fold 5/10: 100%|██████████| 21/21 [00:01<00:00, 13.54it/s]\n"
     ]
    },
    {
     "name": "stdout",
     "output_type": "stream",
     "text": [
      "Validation accuracy: 0.9226190476190477\n",
      "FOLD 5\n",
      "-------------------------------\n"
     ]
    },
    {
     "name": "stderr",
     "output_type": "stream",
     "text": [
      "Some weights of BertForSequenceClassification were not initialized from the model checkpoint at bert-base-uncased and are newly initialized: ['classifier.weight', 'classifier.bias']\n",
      "You should probably TRAIN this model on a down-stream task to be able to use it for predictions and inference.\n",
      "Training Epoch 1/2, Fold 6/10: 100%|██████████| 184/184 [00:44<00:00,  4.16it/s, loss=0.346]\n",
      "Training Epoch 2/2, Fold 6/10: 100%|██████████| 184/184 [00:44<00:00,  4.16it/s, loss=0.137]\n",
      "Validation, Fold 6/10: 100%|██████████| 21/21 [00:01<00:00, 13.54it/s]\n"
     ]
    },
    {
     "name": "stdout",
     "output_type": "stream",
     "text": [
      "Validation accuracy: 0.9345238095238095\n",
      "FOLD 6\n",
      "-------------------------------\n"
     ]
    },
    {
     "name": "stderr",
     "output_type": "stream",
     "text": [
      "Some weights of BertForSequenceClassification were not initialized from the model checkpoint at bert-base-uncased and are newly initialized: ['classifier.weight', 'classifier.bias']\n",
      "You should probably TRAIN this model on a down-stream task to be able to use it for predictions and inference.\n",
      "Training Epoch 1/2, Fold 7/10: 100%|██████████| 184/184 [00:44<00:00,  4.16it/s, loss=0.363]\n",
      "Training Epoch 2/2, Fold 7/10: 100%|██████████| 184/184 [00:44<00:00,  4.16it/s, loss=0.146]\n",
      "Validation, Fold 7/10: 100%|██████████| 21/21 [00:01<00:00, 13.53it/s]\n"
     ]
    },
    {
     "name": "stdout",
     "output_type": "stream",
     "text": [
      "Validation accuracy: 0.9107142857142857\n",
      "FOLD 7\n",
      "-------------------------------\n"
     ]
    },
    {
     "name": "stderr",
     "output_type": "stream",
     "text": [
      "Some weights of BertForSequenceClassification were not initialized from the model checkpoint at bert-base-uncased and are newly initialized: ['classifier.weight', 'classifier.bias']\n",
      "You should probably TRAIN this model on a down-stream task to be able to use it for predictions and inference.\n",
      "Training Epoch 1/2, Fold 8/10: 100%|██████████| 184/184 [00:44<00:00,  4.16it/s, loss=0.344]\n",
      "Training Epoch 2/2, Fold 8/10: 100%|██████████| 184/184 [00:44<00:00,  4.16it/s, loss=0.142]\n",
      "Validation, Fold 8/10: 100%|██████████| 21/21 [00:01<00:00, 13.56it/s]\n"
     ]
    },
    {
     "name": "stdout",
     "output_type": "stream",
     "text": [
      "Validation accuracy: 0.9226190476190477\n",
      "FOLD 8\n",
      "-------------------------------\n"
     ]
    },
    {
     "name": "stderr",
     "output_type": "stream",
     "text": [
      "Some weights of BertForSequenceClassification were not initialized from the model checkpoint at bert-base-uncased and are newly initialized: ['classifier.weight', 'classifier.bias']\n",
      "You should probably TRAIN this model on a down-stream task to be able to use it for predictions and inference.\n",
      "Training Epoch 1/2, Fold 9/10: 100%|██████████| 184/184 [00:44<00:00,  4.16it/s, loss=0.364]\n",
      "Training Epoch 2/2, Fold 9/10: 100%|██████████| 184/184 [00:44<00:00,  4.16it/s, loss=0.139]\n",
      "Validation, Fold 9/10: 100%|██████████| 21/21 [00:01<00:00, 13.55it/s]\n"
     ]
    },
    {
     "name": "stdout",
     "output_type": "stream",
     "text": [
      "Validation accuracy: 0.9047619047619048\n",
      "FOLD 9\n",
      "-------------------------------\n"
     ]
    },
    {
     "name": "stderr",
     "output_type": "stream",
     "text": [
      "Some weights of BertForSequenceClassification were not initialized from the model checkpoint at bert-base-uncased and are newly initialized: ['classifier.weight', 'classifier.bias']\n",
      "You should probably TRAIN this model on a down-stream task to be able to use it for predictions and inference.\n",
      "Training Epoch 1/2, Fold 10/10: 100%|██████████| 184/184 [00:44<00:00,  4.17it/s, loss=0.331]\n",
      "Training Epoch 2/2, Fold 10/10: 100%|██████████| 184/184 [00:44<00:00,  4.13it/s, loss=0.127]\n",
      "Validation, Fold 10/10: 100%|██████████| 21/21 [00:01<00:00, 13.01it/s]"
     ]
    },
    {
     "name": "stdout",
     "output_type": "stream",
     "text": [
      "Validation accuracy: 0.9107142857142857\n",
      "Average performance across all folds: {'avg_train_loss': 0.13751504103091303, 'avg_val_loss': 0.18542413024586582, 'avg_val_accuracy': 0.9198412698412699}\n"
     ]
    },
    {
     "name": "stderr",
     "output_type": "stream",
     "text": [
      "\n"
     ]
    }
   ],
   "source": [
    "import numpy as np\n",
    "# Define the KFold cross-validator\n",
    "kf = KFold(n_splits=10, shuffle=True, random_state=42)\n",
    "\n",
    "# Initialize performance metric list\n",
    "fold_performance = []\n",
    "\n",
    "# Parameters\n",
    "batch_size = 8\n",
    "epochs = 25\n",
    "learning_rate = 2e-5\n",
    "\n",
    "# Define the device\n",
    "device = torch.device(\"cuda\" if torch.cuda.is_available() else \"cpu\")\n",
    "\n",
    "# Start the KFold cross-validation\n",
    "for fold, (train_ids, test_ids) in enumerate(kf.split(dataset)):\n",
    "    print(f\"FOLD {fold}\")\n",
    "    print(\"-------------------------------\")\n",
    "\n",
    "    # Split the data into training and validation sets for the current fold\n",
    "    train_subset = Subset(dataset, train_ids)\n",
    "    test_subset = Subset(dataset, test_ids)\n",
    "    \n",
    "    train_dataloader = DataLoader(train_subset, sampler=RandomSampler(train_subset), batch_size=batch_size)\n",
    "    test_dataloader = DataLoader(test_subset, sampler=SequentialSampler(test_subset), batch_size=batch_size)\n",
    "    \n",
    "    # Initialize the BERT model for sequence classification\n",
    "    model = BertForSequenceClassification.from_pretrained('bert-base-uncased')\n",
    "    model.to(device)\n",
    "    \n",
    "    # Define the optimizer\n",
    "    optimizer = AdamW(model.parameters(), lr=learning_rate)\n",
    "    model.train()\n",
    "    \n",
    "    # Training loop for the current fold\n",
    "    for epoch in range(epochs):\n",
    "        total_loss = 0\n",
    "        \n",
    "        train_progress_bar = tqdm(train_dataloader, desc=f\"Training Epoch {epoch+1}/{epochs}, Fold {fold+1}/10\")\n",
    "        \n",
    "        for step, batch in enumerate(train_progress_bar):\n",
    "            batch = tuple(t.to(device) for t in batch)\n",
    "            b_input_ids, b_input_mask, b_labels = batch\n",
    "            \n",
    "            model.zero_grad()\n",
    "            \n",
    "            outputs = model(b_input_ids, attention_mask=b_input_mask, labels=b_labels)\n",
    "            loss = outputs.loss\n",
    "            total_loss += loss.item()\n",
    "            \n",
    "            loss.backward()\n",
    "            optimizer.step()\n",
    "            \n",
    "            train_progress_bar.set_postfix(loss=total_loss/(step+1))\n",
    "        \n",
    "        train_progress_bar.close()\n",
    "        \n",
    "    # Calculate the average loss over the training data.\n",
    "    avg_train_loss = total_loss / len(train_dataloader)\n",
    "        \n",
    "    # Validation step\n",
    "    model.eval()\n",
    "    total_eval_accuracy = 0\n",
    "    total_eval_loss = 0\n",
    "\n",
    "    eval_progress_bar = tqdm(test_dataloader, desc=f\"Validation, Fold {fold+1}/10\")\n",
    "\n",
    "    for batch in eval_progress_bar:\n",
    "        batch = tuple(t.to(device) for t in batch)\n",
    "        b_input_ids, b_input_mask, b_labels = batch\n",
    "    \n",
    "        with torch.no_grad():\n",
    "            outputs = model(b_input_ids, attention_mask=b_input_mask, labels=b_labels)\n",
    "    \n",
    "        loss = outputs.loss\n",
    "        total_eval_loss += loss.item()\n",
    "    \n",
    "        # Move logits and labels to CPU\n",
    "        logits = outputs.logits.detach().cpu().numpy()\n",
    "        label_ids = b_labels.to('cpu').numpy()\n",
    "\n",
    "        # Calculate the accuracy for this batch of test sentences\n",
    "        preds = np.argmax(logits, axis=1)\n",
    "        batch_accuracy = np.mean(preds == label_ids)\n",
    "        total_eval_accuracy += batch_accuracy\n",
    "        \n",
    "    # Report the final accuracy for this validation run.\n",
    "    avg_val_accuracy = total_eval_accuracy / len(test_dataloader)\n",
    "    print(f\"Validation accuracy: {avg_val_accuracy}\")\n",
    "\n",
    "\n",
    "    # Calculate the average loss over all of the batches.\n",
    "    avg_val_loss = total_eval_loss / len(test_dataloader)\n",
    "    \n",
    "    # Record all statistics from this epoch.\n",
    "    fold_performance.append({\n",
    "        'fold': fold,\n",
    "        'train_loss': avg_train_loss,\n",
    "        'val_loss': avg_val_loss,\n",
    "        'val_accuracy': avg_val_accuracy\n",
    "    })\n",
    "\n",
    "    eval_progress_bar.close()\n",
    "\n",
    "# Calculate and print the average performance across all folds\n",
    "average_performance = {\n",
    "    'avg_train_loss': np.mean([x['train_loss'] for x in fold_performance]),\n",
    "    'avg_val_loss': np.mean([x['val_loss'] for x in fold_performance]),\n",
    "    'avg_val_accuracy': np.mean([x['val_accuracy'] for x in fold_performance])\n",
    "}\n",
    "print(f\"Average performance across all folds: {average_performance}\")"
   ]
  }
 ],
 "metadata": {
  "kernelspec": {
   "display_name": "Python 3 (ipykernel)",
   "language": "python",
   "name": "python3"
  },
  "language_info": {
   "codemirror_mode": {
    "name": "ipython",
    "version": 3
   },
   "file_extension": ".py",
   "mimetype": "text/x-python",
   "name": "python",
   "nbconvert_exporter": "python",
   "pygments_lexer": "ipython3",
   "version": "3.10.13"
  }
 },
 "nbformat": 4,
 "nbformat_minor": 5
}
