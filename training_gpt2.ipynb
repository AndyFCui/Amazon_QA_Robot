{
 "cells": [
  {
   "cell_type": "code",
   "execution_count": 1,
   "id": "initial_id",
   "metadata": {
    "ExecuteTime": {
     "end_time": "2023-12-03T21:10:16.362105Z",
     "start_time": "2023-12-03T21:10:16.348435Z"
    }
   },
   "outputs": [],
   "source": [
    "import json\n",
    "import torch\n",
    "import numpy as np\n",
    "from torch.utils.data import Dataset, DataLoader, Subset\n",
    "from torch.nn.utils.rnn import pad_sequence\n",
    "from transformers import GPT2Tokenizer, GPT2LMHeadModel, AdamW\n",
    "from sklearn.metrics import accuracy_score\n",
    "from sklearn.model_selection import KFold\n",
    "from nltk.translate.bleu_score import sentence_bleu\n",
    "import matplotlib.pyplot as plt\n",
    "from tqdm import tqdm"
   ]
  },
  {
   "cell_type": "code",
   "execution_count": 2,
   "id": "336e3f59095cf075",
   "metadata": {
    "ExecuteTime": {
     "end_time": "2023-12-03T21:10:16.374627Z",
     "start_time": "2023-12-03T21:10:16.356665Z"
    },
    "collapsed": false,
    "jupyter": {
     "outputs_hidden": false
    }
   },
   "outputs": [],
   "source": [
    "#readin training and test datas\n",
    "file_path = 'qa_dataset.json'\n",
    "\n",
    "with open(file_path, 'r') as file:\n",
    "    data = json.load(file)"
   ]
  },
  {
   "cell_type": "code",
   "execution_count": 3,
   "id": "29c40423370cfb0c",
   "metadata": {
    "ExecuteTime": {
     "end_time": "2023-12-03T21:10:16.969735Z",
     "start_time": "2023-12-03T21:10:16.366448Z"
    },
    "collapsed": false,
    "jupyter": {
     "outputs_hidden": false
    }
   },
   "outputs": [
    {
     "data": {
      "text/plain": [
       "GPT2LMHeadModel(\n",
       "  (transformer): GPT2Model(\n",
       "    (wte): Embedding(50257, 768)\n",
       "    (wpe): Embedding(1024, 768)\n",
       "    (drop): Dropout(p=0.1, inplace=False)\n",
       "    (h): ModuleList(\n",
       "      (0-11): 12 x GPT2Block(\n",
       "        (ln_1): LayerNorm((768,), eps=1e-05, elementwise_affine=True)\n",
       "        (attn): GPT2Attention(\n",
       "          (c_attn): Conv1D()\n",
       "          (c_proj): Conv1D()\n",
       "          (attn_dropout): Dropout(p=0.1, inplace=False)\n",
       "          (resid_dropout): Dropout(p=0.1, inplace=False)\n",
       "        )\n",
       "        (ln_2): LayerNorm((768,), eps=1e-05, elementwise_affine=True)\n",
       "        (mlp): GPT2MLP(\n",
       "          (c_fc): Conv1D()\n",
       "          (c_proj): Conv1D()\n",
       "          (act): NewGELUActivation()\n",
       "          (dropout): Dropout(p=0.1, inplace=False)\n",
       "        )\n",
       "      )\n",
       "    )\n",
       "    (ln_f): LayerNorm((768,), eps=1e-05, elementwise_affine=True)\n",
       "  )\n",
       "  (lm_head): Linear(in_features=768, out_features=50257, bias=False)\n",
       ")"
      ]
     },
     "execution_count": 3,
     "metadata": {},
     "output_type": "execute_result"
    }
   ],
   "source": [
    "#prepare model\n",
    "tokenizer = GPT2Tokenizer.from_pretrained('gpt2')\n",
    "tokenizer.pad_token = tokenizer.eos_token\n",
    "model = GPT2LMHeadModel.from_pretrained('gpt2')\n",
    "device = 'cuda' if torch.cuda.is_available() else 'cpu'\n",
    "model.to(device)"
   ]
  },
  {
   "cell_type": "code",
   "execution_count": 4,
   "id": "ed3b3feb-6093-459a-b4aa-e3ff02ccef8c",
   "metadata": {},
   "outputs": [],
   "source": [
    "#customized dataset\n",
    "class QADataset(Dataset):\n",
    "    def __init__(self, tokenizer, data, block_size, train=True):\n",
    "        self.train = True\n",
    "        self.tokenizer = tokenizer\n",
    "        self.questions_answers = []\n",
    "        if not train:\n",
    "            self.train = False\n",
    "            self.answers = []\n",
    "\n",
    "        with open(file_path, 'r') as file:\n",
    "            for item in data:\n",
    "                if train:\n",
    "                    encoded = tokenizer.encode(f'Product: {item[\"product_name\"]} Product Description: {item[\"product_description\"]} Question: {item[\"question\"]} Answer: {item[\"answer\"]} {tokenizer.eos_token}', truncation=True, max_length=block_size, add_special_tokens=True)\n",
    "                else:\n",
    "                    encoded = tokenizer.encode(f'Product: {item[\"product_name\"]} Product Description: {item[\"product_description\"]} Question: {item[\"question\"]}', truncation=True, max_length=block_size, add_special_tokens=False)\n",
    "                    encoded2 = f'Product: {item[\"product_name\"]} Product Description: {item[\"product_description\"]} Question: {item[\"question\"]} Answer: {item[\"answer\"]}'\n",
    "                    self.answers.append(encoded2)\n",
    "                self.questions_answers.append(encoded)\n",
    "\n",
    "    def __len__(self):\n",
    "        return len(self.questions_answers)\n",
    "\n",
    "    def __getitem__(self, idx):\n",
    "        if self.train:\n",
    "            return torch.tensor(self.questions_answers[idx], dtype=torch.long)\n",
    "        else:\n",
    "            return torch.tensor(self.questions_answers[idx], dtype=torch.long), self.answers[idx]\n",
    "\n",
    "#padding functions\n",
    "def collate_fn(batch):\n",
    "    batch = pad_sequence(batch, batch_first=True, padding_value=tokenizer.pad_token_id)\n",
    "    return batch\n",
    "def collate_fn2(batch):\n",
    "    questions, answers = zip(*batch)\n",
    "    questions_tensor = [torch.tensor(question) for question in questions]\n",
    "    max_len = max([q.size(0) for q in questions_tensor])\n",
    "    questions_padded = torch.stack([torch.cat([torch.full((max_len - q.size(0),), tokenizer.pad_token_id), q]) for q in questions_tensor])\n",
    "    attention_masks = torch.stack([torch.cat([torch.zeros(max_len - q.size(0)), torch.ones(q.size(0))]) for q in questions_tensor])\n",
    "    return questions_padded, attention_masks, answers\n"
   ]
  },
  {
   "cell_type": "code",
   "execution_count": 5,
   "id": "9b2a94ce5138fac5",
   "metadata": {
    "ExecuteTime": {
     "end_time": "2023-12-03T21:11:16.965992Z",
     "start_time": "2023-12-03T21:11:14.955657Z"
    },
    "collapsed": false,
    "jupyter": {
     "outputs_hidden": false
    }
   },
   "outputs": [],
   "source": [
    "#prepare data\n",
    "train_size = round(len(data) * 0.7)\n",
    "train_data = data[:train_size]\n",
    "test_data = data[train_size:]\n",
    "train_dataset = QADataset(tokenizer, train_data, 512)\n",
    "test_dataset = QADataset(tokenizer, test_data, 512, train=False)\n",
    "train_loader = DataLoader(train_dataset, batch_size=8, shuffle=True, collate_fn=collate_fn)\n",
    "test_loader = DataLoader(test_dataset, batch_size=3, shuffle=False, collate_fn=collate_fn2)"
   ]
  },
  {
   "cell_type": "code",
   "execution_count": 6,
   "id": "282c1206-e089-4681-91f8-0127cdc5d2fc",
   "metadata": {},
   "outputs": [],
   "source": [
    "def prepare_model():\n",
    "    #prepare model\n",
    "    tokenizer = GPT2Tokenizer.from_pretrained('gpt2')\n",
    "    tokenizer.pad_token = tokenizer.eos_token\n",
    "    model = GPT2LMHeadModel.from_pretrained('gpt2')\n",
    "    device = 'cuda' if torch.cuda.is_available() else 'cpu'\n",
    "    model.to(device)\n",
    "    return model, tokenizer"
   ]
  },
  {
   "cell_type": "code",
   "execution_count": 7,
   "id": "8e9635dc-b49e-4248-8068-f7bc44cd576f",
   "metadata": {},
   "outputs": [],
   "source": [
    "def training(model, train_loader, epoch, optimizer, loss_fn):\n",
    "    # #hyper parameters\n",
    "    # epochs = 25\n",
    "    \n",
    "    # #optimizer\n",
    "    # optimizer = AdamW(model.parameters(), lr=5e-5)\n",
    "    \n",
    "    # #loss function\n",
    "    # loss_fn = torch.nn.CrossEntropyLoss()\n",
    "    \n",
    "    epoch_losses = []\n",
    "    \n",
    "    # Training loop\n",
    "    model.train()\n",
    "    for epoch in range(epoch):\n",
    "        total_loss = 0\n",
    "        for batch in tqdm(train_loader):\n",
    "            inputs = batch.to(device)\n",
    "            labels = batch.to(device)\n",
    "            outputs = model(inputs, labels=labels)\n",
    "            loss = outputs.loss\n",
    "            total_loss += loss.item()\n",
    "            optimizer.zero_grad()\n",
    "            loss.backward()\n",
    "            optimizer.step()\n",
    "            \n",
    "        avg_loss = total_loss/len(train_loader)\n",
    "        epoch_losses.append(avg_loss)\n",
    "        print(f\"Epoch {epoch+1} finished. Loss: {avg_loss}\")\n",
    "    return epoch_losses"
   ]
  },
  {
   "cell_type": "code",
   "execution_count": 8,
   "id": "3dc58b69-78f0-4127-be42-12047998efbc",
   "metadata": {},
   "outputs": [],
   "source": [
    "def plot(epoch_losses, fold):\n",
    "    # Plotting the training loss\n",
    "    plt.plot(epoch_losses, label=f'Training Loss Fold {fold}')\n",
    "    plt.xlabel('Epochs')\n",
    "    plt.ylabel('Loss')\n",
    "    plt.title(f'Training Loss Over Epochs Fold {fold}')\n",
    "    plt.legend()\n",
    "    plt.show()"
   ]
  },
  {
   "cell_type": "code",
   "execution_count": 9,
   "id": "cbb4cf3b-082b-42b9-b898-b7e82d9e0c08",
   "metadata": {},
   "outputs": [],
   "source": [
    "def testing(model, test_loader):\n",
    "    temp = tokenizer.padding_side\n",
    "    tokenizer.padding_side = 'left'\n",
    "    temp2 = model.config.pad_token_id\n",
    "    model.config.pad_token_id = model.config.eos_token_id\n",
    "    \n",
    "    #switch to evaluation mode\n",
    "    model.eval()\n",
    "    \n",
    "    #BLEU scores list\n",
    "    bleu_scores = []\n",
    "    \n",
    "    for batch in tqdm(test_loader):\n",
    "        encoded_questions, attention_masks, correct_answers = batch\n",
    "        encoded_questions = encoded_questions.to(device)\n",
    "        attention_masks = attention_masks.to(device)\n",
    "        \n",
    "        for i in range(encoded_questions.size(0)):\n",
    "            with torch.no_grad():\n",
    "                output = model.generate(encoded_questions[i].unsqueeze(0), \n",
    "                                        attention_mask=attention_masks[i].unsqueeze(0),\n",
    "                                        max_length=512)  # Set `your_max_length` appropriately\n",
    "                generated_text = tokenizer.decode(output[0], skip_special_tokens=True)\n",
    "                reference = correct_answers[i].split()\n",
    "                candidate = generated_text.split()\n",
    "    \n",
    "                #calculate BLEU score\n",
    "                score = sentence_bleu([reference], candidate)\n",
    "                bleu_scores.append(score)\n",
    "    \n",
    "    #calculate average BLEU score across all items\n",
    "    avg_bleu_score = sum(bleu_scores) / len(bleu_scores)\n",
    "    return avg_bleu_score"
   ]
  },
  {
   "cell_type": "markdown",
   "id": "ff18570d-7ab9-41ab-8520-b0734704995a",
   "metadata": {},
   "source": [
    "### train 1"
   ]
  },
  {
   "cell_type": "code",
   "execution_count": 10,
   "id": "5a16023ef51bad72",
   "metadata": {
    "ExecuteTime": {
     "start_time": "2023-12-03T21:12:21.477673Z"
    },
    "collapsed": false,
    "is_executing": true,
    "jupyter": {
     "outputs_hidden": false
    }
   },
   "outputs": [
    {
     "name": "stderr",
     "output_type": "stream",
     "text": [
      "/opt/conda/lib/python3.10/site-packages/transformers/optimization.py:411: FutureWarning: This implementation of AdamW is deprecated and will be removed in a future version. Use the PyTorch implementation torch.optim.AdamW instead, or set `no_deprecation_warning=True` to disable this warning\n",
      "  warnings.warn(\n",
      "100%|██████████| 143/143 [00:30<00:00,  4.74it/s]\n"
     ]
    },
    {
     "name": "stdout",
     "output_type": "stream",
     "text": [
      "Epoch 1 finished. Loss: 1.960523667035403\n"
     ]
    },
    {
     "name": "stderr",
     "output_type": "stream",
     "text": [
      "100%|██████████| 143/143 [00:30<00:00,  4.75it/s]\n"
     ]
    },
    {
     "name": "stdout",
     "output_type": "stream",
     "text": [
      "Epoch 2 finished. Loss: 1.6094846967216971\n"
     ]
    },
    {
     "name": "stderr",
     "output_type": "stream",
     "text": [
      "100%|██████████| 143/143 [00:30<00:00,  4.70it/s]\n"
     ]
    },
    {
     "name": "stdout",
     "output_type": "stream",
     "text": [
      "Epoch 3 finished. Loss: 1.4206441332410265\n"
     ]
    },
    {
     "name": "stderr",
     "output_type": "stream",
     "text": [
      "100%|██████████| 143/143 [00:30<00:00,  4.72it/s]\n"
     ]
    },
    {
     "name": "stdout",
     "output_type": "stream",
     "text": [
      "Epoch 4 finished. Loss: 1.3019078303050329\n"
     ]
    },
    {
     "name": "stderr",
     "output_type": "stream",
     "text": [
      "100%|██████████| 143/143 [00:29<00:00,  4.82it/s]\n"
     ]
    },
    {
     "name": "stdout",
     "output_type": "stream",
     "text": [
      "Epoch 5 finished. Loss: 1.2042125307179832\n"
     ]
    },
    {
     "name": "stderr",
     "output_type": "stream",
     "text": [
      "100%|██████████| 143/143 [00:30<00:00,  4.71it/s]\n"
     ]
    },
    {
     "name": "stdout",
     "output_type": "stream",
     "text": [
      "Epoch 6 finished. Loss: 1.0515146670224784\n"
     ]
    },
    {
     "name": "stderr",
     "output_type": "stream",
     "text": [
      "100%|██████████| 143/143 [00:30<00:00,  4.71it/s]\n"
     ]
    },
    {
     "name": "stdout",
     "output_type": "stream",
     "text": [
      "Epoch 7 finished. Loss: 0.9550225530471002\n"
     ]
    },
    {
     "name": "stderr",
     "output_type": "stream",
     "text": [
      "100%|██████████| 143/143 [00:30<00:00,  4.72it/s]\n"
     ]
    },
    {
     "name": "stdout",
     "output_type": "stream",
     "text": [
      "Epoch 8 finished. Loss: 0.8883837494816813\n"
     ]
    },
    {
     "name": "stderr",
     "output_type": "stream",
     "text": [
      "100%|██████████| 143/143 [00:30<00:00,  4.74it/s]\n"
     ]
    },
    {
     "name": "stdout",
     "output_type": "stream",
     "text": [
      "Epoch 9 finished. Loss: 0.8168988807218058\n"
     ]
    },
    {
     "name": "stderr",
     "output_type": "stream",
     "text": [
      "100%|██████████| 143/143 [00:29<00:00,  4.84it/s]\n"
     ]
    },
    {
     "name": "stdout",
     "output_type": "stream",
     "text": [
      "Epoch 10 finished. Loss: 0.7826857250053566\n"
     ]
    },
    {
     "name": "stderr",
     "output_type": "stream",
     "text": [
      "100%|██████████| 143/143 [00:30<00:00,  4.70it/s]\n"
     ]
    },
    {
     "name": "stdout",
     "output_type": "stream",
     "text": [
      "Epoch 11 finished. Loss: 0.6897165504368868\n"
     ]
    },
    {
     "name": "stderr",
     "output_type": "stream",
     "text": [
      "100%|██████████| 143/143 [00:30<00:00,  4.75it/s]\n"
     ]
    },
    {
     "name": "stdout",
     "output_type": "stream",
     "text": [
      "Epoch 12 finished. Loss: 0.6546097068519859\n"
     ]
    },
    {
     "name": "stderr",
     "output_type": "stream",
     "text": [
      "100%|██████████| 143/143 [00:30<00:00,  4.61it/s]\n"
     ]
    },
    {
     "name": "stdout",
     "output_type": "stream",
     "text": [
      "Epoch 13 finished. Loss: 0.5818194957463058\n"
     ]
    },
    {
     "name": "stderr",
     "output_type": "stream",
     "text": [
      "100%|██████████| 143/143 [00:30<00:00,  4.73it/s]\n"
     ]
    },
    {
     "name": "stdout",
     "output_type": "stream",
     "text": [
      "Epoch 14 finished. Loss: 0.5621249040106794\n"
     ]
    },
    {
     "name": "stderr",
     "output_type": "stream",
     "text": [
      "100%|██████████| 143/143 [00:30<00:00,  4.70it/s]\n"
     ]
    },
    {
     "name": "stdout",
     "output_type": "stream",
     "text": [
      "Epoch 15 finished. Loss: 0.5069978041248722\n"
     ]
    },
    {
     "name": "stderr",
     "output_type": "stream",
     "text": [
      "100%|██████████| 143/143 [00:30<00:00,  4.70it/s]\n"
     ]
    },
    {
     "name": "stdout",
     "output_type": "stream",
     "text": [
      "Epoch 16 finished. Loss: 0.4780700669422016\n"
     ]
    },
    {
     "name": "stderr",
     "output_type": "stream",
     "text": [
      "100%|██████████| 143/143 [00:30<00:00,  4.68it/s]\n"
     ]
    },
    {
     "name": "stdout",
     "output_type": "stream",
     "text": [
      "Epoch 17 finished. Loss: 0.4454302687744994\n"
     ]
    },
    {
     "name": "stderr",
     "output_type": "stream",
     "text": [
      "100%|██████████| 143/143 [00:29<00:00,  4.77it/s]\n"
     ]
    },
    {
     "name": "stdout",
     "output_type": "stream",
     "text": [
      "Epoch 18 finished. Loss: 0.4198742780860487\n"
     ]
    },
    {
     "name": "stderr",
     "output_type": "stream",
     "text": [
      "100%|██████████| 143/143 [00:29<00:00,  4.80it/s]\n"
     ]
    },
    {
     "name": "stdout",
     "output_type": "stream",
     "text": [
      "Epoch 19 finished. Loss: 0.38826251415522783\n"
     ]
    },
    {
     "name": "stderr",
     "output_type": "stream",
     "text": [
      "100%|██████████| 143/143 [00:30<00:00,  4.73it/s]\n"
     ]
    },
    {
     "name": "stdout",
     "output_type": "stream",
     "text": [
      "Epoch 20 finished. Loss: 0.3530080235087788\n"
     ]
    },
    {
     "name": "stderr",
     "output_type": "stream",
     "text": [
      "100%|██████████| 143/143 [00:30<00:00,  4.68it/s]\n"
     ]
    },
    {
     "name": "stdout",
     "output_type": "stream",
     "text": [
      "Epoch 21 finished. Loss: 0.3277451203732224\n"
     ]
    },
    {
     "name": "stderr",
     "output_type": "stream",
     "text": [
      "100%|██████████| 143/143 [00:30<00:00,  4.72it/s]\n"
     ]
    },
    {
     "name": "stdout",
     "output_type": "stream",
     "text": [
      "Epoch 22 finished. Loss: 0.30443101454448035\n"
     ]
    },
    {
     "name": "stderr",
     "output_type": "stream",
     "text": [
      "100%|██████████| 143/143 [00:30<00:00,  4.69it/s]\n"
     ]
    },
    {
     "name": "stdout",
     "output_type": "stream",
     "text": [
      "Epoch 23 finished. Loss: 0.2831785871119766\n"
     ]
    },
    {
     "name": "stderr",
     "output_type": "stream",
     "text": [
      "100%|██████████| 143/143 [00:30<00:00,  4.66it/s]\n"
     ]
    },
    {
     "name": "stdout",
     "output_type": "stream",
     "text": [
      "Epoch 24 finished. Loss: 0.25819459323074434\n"
     ]
    },
    {
     "name": "stderr",
     "output_type": "stream",
     "text": [
      "100%|██████████| 143/143 [00:30<00:00,  4.66it/s]\n"
     ]
    },
    {
     "name": "stdout",
     "output_type": "stream",
     "text": [
      "Epoch 25 finished. Loss: 0.24041368260041818\n"
     ]
    },
    {
     "data": {
      "image/png": "[encoded data removed]",
      "text/plain": [
       "<Figure size 640x480 with 1 Axes>"
      ]
     },
     "metadata": {},
     "output_type": "display_data"
    },
    {
     "name": "stderr",
     "output_type": "stream",
     "text": [
      "  0%|          | 0/163 [00:00<?, ?it/s]/tmp/ipykernel_4497/2159941939.py:36: UserWarning: To copy construct from a tensor, it is recommended to use sourceTensor.clone().detach() or sourceTensor.clone().detach().requires_grad_(True), rather than torch.tensor(sourceTensor).\n",
      "  questions_tensor = [torch.tensor(question) for question in questions]\n",
      "/opt/conda/lib/python3.10/site-packages/transformers/generation/utils.py:1473: UserWarning: You have modified the pretrained model configuration to control generation. This is a deprecated strategy to control generation and will be removed soon, in a future version. Please use and modify the model generation configuration (see https://huggingface.co/docs/transformers/generation_strategies#default-text-generation-configuration )\n",
      "  warnings.warn(\n",
      " 36%|███▌      | 58/163 [00:42<00:59,  1.76it/s]/opt/conda/lib/python3.10/site-packages/transformers/generation/utils.py:1281: UserWarning: Input length of input_ids is 512, but `max_length` is set to 512. This can lead to unexpected behavior. You should consider increasing `max_new_tokens`.\n",
      "  warnings.warn(\n",
      "100%|██████████| 163/163 [01:48<00:00,  1.50it/s]"
     ]
    },
    {
     "name": "stdout",
     "output_type": "stream",
     "text": [
      "Average BLEU Score: 0.7694795275655861\n"
     ]
    },
    {
     "name": "stderr",
     "output_type": "stream",
     "text": [
      "\n"
     ]
    }
   ],
   "source": [
    "#hyper parameters\n",
    "epochs = 25\n",
    "\n",
    "#optimizer\n",
    "optimizer = AdamW(model.parameters(), lr=5e-5)\n",
    "\n",
    "#loss function\n",
    "loss_fn = torch.nn.CrossEntropyLoss()\n",
    "\n",
    "epoch_losses = training(model, train_loader, epochs, optimizer, loss_fn)\n",
    "plot(epoch_losses, \"\")\n",
    "print(f\"Average BLEU Score: {testing(model, test_loader)}\")"
   ]
  },
  {
   "cell_type": "code",
   "execution_count": 12,
   "id": "fa3f2e98-a15a-4c4f-8b25-56595275e7ca",
   "metadata": {},
   "outputs": [],
   "source": [
    "#saving model\n",
    "model.save_pretrained('./gpt2-qa-finetuned-25-epoch')"
   ]
  },
  {
   "cell_type": "markdown",
   "id": "7635b437-5fbf-4a27-b0cc-b41f26902d25",
   "metadata": {},
   "source": [
    "### K-fold"
   ]
  },
  {
   "cell_type": "code",
   "execution_count": 13,
   "id": "e3b6a851-91eb-42ea-8da9-de0bdb36645b",
   "metadata": {},
   "outputs": [],
   "source": [
    "#k-fold (5)\n",
    "kf = KFold(n_splits=5, shuffle=True)"
   ]
  },
  {
   "cell_type": "code",
   "execution_count": null,
   "id": "32e7dbe7-2b71-48ba-b192-a6558d52a2f6",
   "metadata": {},
   "outputs": [
    {
     "name": "stdout",
     "output_type": "stream",
     "text": [
      "FOLD 0\n",
      "--------------------------------\n"
     ]
    },
    {
     "name": "stderr",
     "output_type": "stream",
     "text": [
      "100%|██████████| 163/163 [00:34<00:00,  4.69it/s]\n"
     ]
    },
    {
     "name": "stdout",
     "output_type": "stream",
     "text": [
      "Epoch 1 finished. Loss: 1.962772321847319\n"
     ]
    },
    {
     "name": "stderr",
     "output_type": "stream",
     "text": [
      "100%|██████████| 163/163 [00:34<00:00,  4.67it/s]\n"
     ]
    },
    {
     "name": "stdout",
     "output_type": "stream",
     "text": [
      "Epoch 2 finished. Loss: 1.6673412699640895\n"
     ]
    },
    {
     "name": "stderr",
     "output_type": "stream",
     "text": [
      "100%|██████████| 163/163 [00:35<00:00,  4.64it/s]\n"
     ]
    },
    {
     "name": "stdout",
     "output_type": "stream",
     "text": [
      "Epoch 3 finished. Loss: 1.5090033057277188\n"
     ]
    },
    {
     "name": "stderr",
     "output_type": "stream",
     "text": [
      "100%|██████████| 163/163 [00:34<00:00,  4.71it/s]\n"
     ]
    },
    {
     "name": "stdout",
     "output_type": "stream",
     "text": [
      "Epoch 4 finished. Loss: 1.3974525039912733\n"
     ]
    },
    {
     "name": "stderr",
     "output_type": "stream",
     "text": [
      "100%|██████████| 163/163 [00:34<00:00,  4.66it/s]\n"
     ]
    },
    {
     "name": "stdout",
     "output_type": "stream",
     "text": [
      "Epoch 5 finished. Loss: 1.2655578548191515\n"
     ]
    },
    {
     "name": "stderr",
     "output_type": "stream",
     "text": [
      "100%|██████████| 163/163 [00:34<00:00,  4.74it/s]\n"
     ]
    },
    {
     "name": "stdout",
     "output_type": "stream",
     "text": [
      "Epoch 6 finished. Loss: 1.190496369373579\n"
     ]
    },
    {
     "name": "stderr",
     "output_type": "stream",
     "text": [
      "100%|██████████| 163/163 [00:35<00:00,  4.63it/s]\n"
     ]
    },
    {
     "name": "stdout",
     "output_type": "stream",
     "text": [
      "Epoch 7 finished. Loss: 1.0596840699757535\n"
     ]
    },
    {
     "name": "stderr",
     "output_type": "stream",
     "text": [
      "100%|██████████| 163/163 [00:35<00:00,  4.66it/s]\n"
     ]
    },
    {
     "name": "stdout",
     "output_type": "stream",
     "text": [
      "Epoch 8 finished. Loss: 0.9756303842813691\n"
     ]
    },
    {
     "name": "stderr",
     "output_type": "stream",
     "text": [
      "100%|██████████| 163/163 [00:34<00:00,  4.70it/s]\n"
     ]
    },
    {
     "name": "stdout",
     "output_type": "stream",
     "text": [
      "Epoch 9 finished. Loss: 0.9013370054265473\n"
     ]
    },
    {
     "name": "stderr",
     "output_type": "stream",
     "text": [
      "100%|██████████| 163/163 [00:34<00:00,  4.66it/s]\n"
     ]
    },
    {
     "name": "stdout",
     "output_type": "stream",
     "text": [
      "Epoch 10 finished. Loss: 0.8295013685167932\n"
     ]
    },
    {
     "name": "stderr",
     "output_type": "stream",
     "text": [
      "100%|██████████| 163/163 [00:35<00:00,  4.63it/s]\n"
     ]
    },
    {
     "name": "stdout",
     "output_type": "stream",
     "text": [
      "Epoch 11 finished. Loss: 0.7679637805815854\n"
     ]
    },
    {
     "name": "stderr",
     "output_type": "stream",
     "text": [
      "100%|██████████| 163/163 [00:34<00:00,  4.72it/s]\n"
     ]
    },
    {
     "name": "stdout",
     "output_type": "stream",
     "text": [
      "Epoch 12 finished. Loss: 0.7230241209085734\n"
     ]
    },
    {
     "name": "stderr",
     "output_type": "stream",
     "text": [
      "100%|██████████| 163/163 [00:34<00:00,  4.68it/s]\n"
     ]
    },
    {
     "name": "stdout",
     "output_type": "stream",
     "text": [
      "Epoch 13 finished. Loss: 0.6692734031589485\n"
     ]
    },
    {
     "name": "stderr",
     "output_type": "stream",
     "text": [
      " 67%|██████▋   | 110/163 [00:23<00:09,  5.55it/s]"
     ]
    }
   ],
   "source": [
    "for fold, (train_ids, test_ids) in enumerate(kf.split(data)):\n",
    "    print(f'FOLD {fold}')\n",
    "    print('--------------------------------')\n",
    "    model, tokenizer = prepare_model()\n",
    "    \n",
    "    train_data = [data[i] for i in train_ids]\n",
    "    test_data = [data[i] for i in test_ids]\n",
    "    #create datasets for this fold\n",
    "    train_dataset = QADataset(tokenizer, train_data, 512)\n",
    "    test_dataset = QADataset(tokenizer, test_data, 512, train=False)\n",
    "\n",
    "    #creating data loaders for each fold\n",
    "    train_loader = DataLoader(train_dataset, batch_size=8, shuffle=True, collate_fn=collate_fn)\n",
    "    test_loader = DataLoader(test_dataset, batch_size=3, shuffle=False, collate_fn=collate_fn2)\n",
    "\n",
    "    epoch_losses = training(model, train_loader, 25, AdamW(model.parameters(), lr=5e-5), torch.nn.CrossEntropyLoss())\n",
    "    plot(epoch_losses, fold)\n",
    "    print(testing(model, test_loader))"
   ]
  },
  {
   "cell_type": "markdown",
   "id": "2468a288-c965-440a-bb26-55e7a1dc0231",
   "metadata": {},
   "source": [
    "### Train 2"
   ]
  },
  {
   "cell_type": "code",
   "execution_count": null,
   "id": "b4c24197-b212-4f18-a8a5-4ec8ee115dab",
   "metadata": {},
   "outputs": [],
   "source": [
    "model, tokenizer = prepare_model()\n",
    "#prepare data\n",
    "train_size = round(len(data) * 0.7)\n",
    "train_data = data[:train_size]\n",
    "test_data = data[train_size:]\n",
    "train_dataset = QADataset(tokenizer, train_data, 512)\n",
    "test_dataset = QADataset(tokenizer, test_data, 512, train=False)\n",
    "train_loader = DataLoader(train_dataset, batch_size=8, shuffle=True, collate_fn=collate_fn)\n",
    "test_loader = DataLoader(test_dataset, batch_size=3, shuffle=False, collate_fn=collate_fn2)\n",
    "\n",
    "#hyper parameters\n",
    "epochs = 25\n",
    "\n",
    "#optimizer\n",
    "optimizer = AdamW(model.parameters(), lr=2e-5)\n",
    "\n",
    "#loss function\n",
    "loss_fn = torch.nn.CrossEntropyLoss()\n",
    "\n",
    "epoch_losses = training(model, train_loader, epochs, optimizer, loss_fn)\n",
    "plot(epoch_losses, \"epoch 25 bs 8 lr 2e-5\")\n",
    "print(f\"Average BLEU Score: {testing(model, test_loader)}\")"
   ]
  },
  {
   "cell_type": "markdown",
   "id": "05f1d2f4-7726-4958-9391-a994c71776fd",
   "metadata": {},
   "source": [
    "### Train 3"
   ]
  },
  {
   "cell_type": "code",
   "execution_count": null,
   "id": "134b9e30-748a-4e48-aacc-25d44ebe333e",
   "metadata": {},
   "outputs": [],
   "source": [
    "model, tokenizer = prepare_model()\n",
    "#prepare data\n",
    "train_size = round(len(data) * 0.7)\n",
    "train_data = data[:train_size]\n",
    "test_data = data[train_size:]\n",
    "train_dataset = QADataset(tokenizer, train_data, 512)\n",
    "test_dataset = QADataset(tokenizer, test_data, 512, train=False)\n",
    "train_loader = DataLoader(train_dataset, batch_size=4, shuffle=True, collate_fn=collate_fn)\n",
    "test_loader = DataLoader(test_dataset, batch_size=3, shuffle=False, collate_fn=collate_fn2)\n",
    "\n",
    "#hyper parameters\n",
    "epochs = 30\n",
    "\n",
    "#optimizer\n",
    "optimizer = AdamW(model.parameters(), lr=2e-5)\n",
    "\n",
    "#loss function\n",
    "loss_fn = torch.nn.CrossEntropyLoss()\n",
    "\n",
    "epoch_losses = training(model, train_loader, epochs, optimizer, loss_fn)\n",
    "plot(epoch_losses, \"epoch 30 bs 4 lr 2e-5\")\n",
    "print(f\"Average BLEU Score: {testing(model, test_loader)}\")"
   ]
  },
  {
   "cell_type": "markdown",
   "id": "d711b472-e2ee-4238-bc5c-3d03c66f9d65",
   "metadata": {},
   "source": [
    "### Train 4"
   ]
  },
  {
   "cell_type": "code",
   "execution_count": null,
   "id": "4e1cec7e-2da3-4ae4-9d1f-722f53ddf4b6",
   "metadata": {},
   "outputs": [],
   "source": [
    "model, tokenizer = prepare_model()\n",
    "#prepare data\n",
    "train_size = round(len(data) * 0.7)\n",
    "train_data = data[:train_size]\n",
    "test_data = data[train_size:]\n",
    "train_dataset = QADataset(tokenizer, train_data, 512)\n",
    "test_dataset = QADataset(tokenizer, test_data, 512, train=False)\n",
    "train_loader = DataLoader(train_dataset, batch_size=8, shuffle=True, collate_fn=collate_fn)\n",
    "test_loader = DataLoader(test_dataset, batch_size=3, shuffle=False, collate_fn=collate_fn2)\n",
    "\n",
    "#hyper parameters\n",
    "epochs = 40\n",
    "\n",
    "#optimizer\n",
    "optimizer = AdamW(model.parameters(), lr=1e-5)\n",
    "\n",
    "#loss function\n",
    "loss_fn = torch.nn.CrossEntropyLoss()\n",
    "\n",
    "epoch_losses = training(model, train_loader, epochs, optimizer, loss_fn)\n",
    "plot(epoch_losses, \"epoch 40 bs 8 lr 1e-5\")\n",
    "print(f\"Average BLEU Score: {testing(model, test_loader)}\")"
   ]
  },
  {
   "cell_type": "markdown",
   "id": "c10e965c-4ee4-4371-84b5-f3be69a6db6d",
   "metadata": {},
   "source": [
    "### Train 5"
   ]
  },
  {
   "cell_type": "code",
   "execution_count": null,
   "id": "7eee89fe-4cc8-4ea6-9b67-ff827851d548",
   "metadata": {},
   "outputs": [],
   "source": [
    "model, tokenizer = prepare_model()\n",
    "#prepare data\n",
    "train_size = round(len(data) * 0.7)\n",
    "train_data = data[:train_size]\n",
    "test_data = data[train_size:]\n",
    "train_dataset = QADataset(tokenizer, train_data, 512)\n",
    "test_dataset = QADataset(tokenizer, test_data, 512, train=False)\n",
    "train_loader = DataLoader(train_dataset, batch_size=2, shuffle=True, collate_fn=collate_fn)\n",
    "test_loader = DataLoader(test_dataset, batch_size=3, shuffle=False, collate_fn=collate_fn2)\n",
    "\n",
    "#hyper parameters\n",
    "epochs = 25\n",
    "\n",
    "#optimizer\n",
    "optimizer = AdamW(model.parameters(), lr=1e-5)\n",
    "\n",
    "#loss function\n",
    "loss_fn = torch.nn.CrossEntropyLoss()\n",
    "\n",
    "epoch_losses = training(model, train_loader, epochs, optimizer, loss_fn)\n",
    "plot(epoch_losses, \"epoch 25 bs 2 lr 1e-5\")\n",
    "print(f\"Average BLEU Score: {testing(model, test_loader)}\")"
   ]
  },
  {
   "cell_type": "markdown",
   "id": "c6dd138d-d641-4bba-842b-a46c5aa1c26c",
   "metadata": {},
   "source": [
    "### Train 6"
   ]
  },
  {
   "cell_type": "code",
   "execution_count": null,
   "id": "bb581abd-2d4a-4ba1-b9df-cab4ca8667ce",
   "metadata": {},
   "outputs": [],
   "source": [
    "model, tokenizer = prepare_model()\n",
    "#prepare data\n",
    "train_size = round(len(data) * 0.7)\n",
    "train_data = data[:train_size]\n",
    "test_data = data[train_size:]\n",
    "train_dataset = QADataset(tokenizer, train_data, 512)\n",
    "test_dataset = QADataset(tokenizer, test_data, 512, train=False)\n",
    "train_loader = DataLoader(train_dataset, batch_size=4, shuffle=True, collate_fn=collate_fn)\n",
    "test_loader = DataLoader(test_dataset, batch_size=3, shuffle=False, collate_fn=collate_fn2)\n",
    "\n",
    "#hyper parameters\n",
    "epochs = 25\n",
    "\n",
    "#optimizer\n",
    "optimizer = AdamW(model.parameters(), lr=3e-5)\n",
    "\n",
    "#loss function\n",
    "loss_fn = torch.nn.CrossEntropyLoss()\n",
    "\n",
    "epoch_losses = training(model, train_loader, epochs, optimizer, loss_fn)\n",
    "plot(epoch_losses, \"epoch 25 bs 4 lr 3e-5\")\n",
    "print(f\"Average BLEU Score: {testing(model, test_loader)}\")"
   ]
  },
  {
   "cell_type": "markdown",
   "id": "5f55ae13-c81d-460e-9182-797d61d7ca51",
   "metadata": {},
   "source": [
    "### Train 7"
   ]
  },
  {
   "cell_type": "code",
   "execution_count": null,
   "id": "b46fbe89-e013-416b-91c1-51667ce39117",
   "metadata": {},
   "outputs": [],
   "source": [
    "model, tokenizer = prepare_model()\n",
    "#prepare data\n",
    "train_size = round(len(data) * 0.7)\n",
    "train_data = data[:train_size]\n",
    "test_data = data[train_size:]\n",
    "train_dataset = QADataset(tokenizer, train_data, 512)\n",
    "test_dataset = QADataset(tokenizer, test_data, 512, train=False)\n",
    "train_loader = DataLoader(train_dataset, batch_size=8, shuffle=True, collate_fn=collate_fn)\n",
    "test_loader = DataLoader(test_dataset, batch_size=3, shuffle=False, collate_fn=collate_fn2)\n",
    "\n",
    "#hyper parameters\n",
    "epochs = 50\n",
    "\n",
    "#optimizer\n",
    "optimizer = AdamW(model.parameters(), lr=2e-5)\n",
    "\n",
    "#loss function\n",
    "loss_fn = torch.nn.CrossEntropyLoss()\n",
    "\n",
    "epoch_losses = training(model, train_loader, epochs, optimizer, loss_fn)\n",
    "plot(epoch_losses, \"epoch 50 bs 8 lr 2e-5\")\n",
    "print(f\"Average BLEU Score: {testing(model, test_loader)}\")"
   ]
  },
  {
   "cell_type": "markdown",
   "id": "c8a059dd-1310-4da3-82ec-d75e110e4837",
   "metadata": {},
   "source": [
    "### Train 8"
   ]
  },
  {
   "cell_type": "code",
   "execution_count": null,
   "id": "ea69c603-4532-4e0e-a4c1-330dd5b76afa",
   "metadata": {},
   "outputs": [],
   "source": [
    "model, tokenizer = prepare_model()\n",
    "#prepare data\n",
    "train_size = round(len(data) * 0.7)\n",
    "train_data = data[:train_size]\n",
    "test_data = data[train_size:]\n",
    "train_dataset = QADataset(tokenizer, train_data, 512)\n",
    "test_dataset = QADataset(tokenizer, test_data, 512, train=False)\n",
    "train_loader = DataLoader(train_dataset, batch_size=4, shuffle=True, collate_fn=collate_fn)\n",
    "test_loader = DataLoader(test_dataset, batch_size=3, shuffle=False, collate_fn=collate_fn2)\n",
    "\n",
    "#hyper parameters\n",
    "epochs = 50\n",
    "\n",
    "#optimizer\n",
    "optimizer = AdamW(model.parameters(), lr=2e-5)\n",
    "\n",
    "#loss function\n",
    "loss_fn = torch.nn.CrossEntropyLoss()\n",
    "\n",
    "epoch_losses = training(model, train_loader, epochs, optimizer, loss_fn)\n",
    "plot(epoch_losses, \"epoch 50 bs 4 lr 2e-5\")\n",
    "print(f\"Average BLEU Score: {testing(model, test_loader)}\")"
   ]
  },
  {
   "cell_type": "markdown",
   "id": "0f32c0cc-6462-49bd-9c45-43728a340c0e",
   "metadata": {},
   "source": [
    "### Train 9"
   ]
  },
  {
   "cell_type": "code",
   "execution_count": null,
   "id": "6e8241a9-a7fd-4d1c-ac4f-20b6513340a0",
   "metadata": {},
   "outputs": [],
   "source": [
    "model, tokenizer = prepare_model()\n",
    "#prepare data\n",
    "train_size = round(len(data) * 0.7)\n",
    "train_data = data[:train_size]\n",
    "test_data = data[train_size:]\n",
    "train_dataset = QADataset(tokenizer, train_data, 512)\n",
    "test_dataset = QADataset(tokenizer, test_data, 512, train=False)\n",
    "train_loader = DataLoader(train_dataset, batch_size=2, shuffle=True, collate_fn=collate_fn)\n",
    "test_loader = DataLoader(test_dataset, batch_size=3, shuffle=False, collate_fn=collate_fn2)\n",
    "\n",
    "#hyper parameters\n",
    "epochs = 40\n",
    "\n",
    "#optimizer\n",
    "optimizer = AdamW(model.parameters(), lr=1e-5)\n",
    "\n",
    "#loss function\n",
    "loss_fn = torch.nn.CrossEntropyLoss()\n",
    "\n",
    "epoch_losses = training(model, train_loader, epochs, optimizer, loss_fn)\n",
    "plot(epoch_losses, \"epoch 40 bs 2 lr 1e-5\")\n",
    "print(f\"Average BLEU Score: {testing(model, test_loader)}\")"
   ]
  },
  {
   "cell_type": "markdown",
   "id": "4a357968-6e48-45e9-8c75-121bdb52d643",
   "metadata": {},
   "source": [
    "### Train 10"
   ]
  },
  {
   "cell_type": "code",
   "execution_count": null,
   "id": "ac3240f1-37cf-4de4-8eae-a67f140ced9d",
   "metadata": {},
   "outputs": [],
   "source": [
    "model, tokenizer = prepare_model()\n",
    "#prepare data\n",
    "train_size = round(len(data) * 0.7)\n",
    "train_data = data[:train_size]\n",
    "test_data = data[train_size:]\n",
    "train_dataset = QADataset(tokenizer, train_data, 512)\n",
    "test_dataset = QADataset(tokenizer, test_data, 512, train=False)\n",
    "train_loader = DataLoader(train_dataset, batch_size=2, shuffle=True, collate_fn=collate_fn)\n",
    "test_loader = DataLoader(test_dataset, batch_size=3, shuffle=False, collate_fn=collate_fn2)\n",
    "\n",
    "#hyper parameters\n",
    "epochs = 25\n",
    "\n",
    "#optimizer\n",
    "optimizer = AdamW(model.parameters(), lr=1e-7)\n",
    "\n",
    "#loss function\n",
    "loss_fn = torch.nn.CrossEntropyLoss()\n",
    "\n",
    "epoch_losses = training(model, train_loader, epochs, optimizer, loss_fn)\n",
    "plot(epoch_losses, \"epoch 25 bs 2 lr 1e-7\")\n",
    "print(f\"Average BLEU Score: {testing(model, test_loader)}\")"
   ]
  }
 ],
 "metadata": {
  "kernelspec": {
   "display_name": "Python 3 (ipykernel)",
   "language": "python",
   "name": "python3"
  },
  "language_info": {
   "codemirror_mode": {
    "name": "ipython",
    "version": 3
   },
   "file_extension": ".py",
   "mimetype": "text/x-python",
   "name": "python",
   "nbconvert_exporter": "python",
   "pygments_lexer": "ipython3",
   "version": "3.10.11"
  }
 },
 "nbformat": 4,
 "nbformat_minor": 5
}
