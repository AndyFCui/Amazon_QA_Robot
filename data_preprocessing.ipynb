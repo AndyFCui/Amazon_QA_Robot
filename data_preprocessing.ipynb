{
 "cells": [
  {
   "cell_type": "code",
   "execution_count": 1,
   "id": "initial_id",
   "metadata": {
    "collapsed": true,
    "ExecuteTime": {
     "end_time": "2023-11-30T01:19:12.517528380Z",
     "start_time": "2023-11-30T01:19:12.361600751Z"
    }
   },
   "outputs": [],
   "source": [
    "import pandas as pd"
   ]
  },
  {
   "cell_type": "markdown",
   "source": [
    "## Extract questions and answers"
   ],
   "metadata": {
    "collapsed": false
   },
   "id": "9bd328637c023110"
  },
  {
   "cell_type": "code",
   "execution_count": 2,
   "outputs": [
    {
     "name": "stdout",
     "output_type": "stream",
     "text": [
      "Shape of original dataset: (10000, 17)\n"
     ]
    },
    {
     "data": {
      "text/plain": "                            uniq_id  \\\n0  eac7efa5dbd3d667f26eb3d3ab504464   \n1  b17540ef7e86e461d37f3ae58b7b72ac   \n2  348f344247b0c1a935b1223072ef9d8a   \n3  e12b92dbb8eaee78b22965d2a9bbbd9f   \n4  e33a9adeed5f36840ccc227db4682a36   \n\n                                        product_name manufacturer   price  \\\n0                              Hornby 2014 Catalogue       Hornby   £3.42   \n1  FunkyBuys® Large Christmas Holiday Express Fes...    FunkyBuys  £16.99   \n2  CLASSIC TOY TRAIN SET TRACK CARRIAGES LIGHT EN...          ccf   £9.99   \n3     HORNBY Coach R4410A BR Hawksworth Corridor 3rd       Hornby  £39.99   \n4  Hornby 00 Gauge 0-4-0 Gildenlow Salt Co. Steam...       Hornby  £32.19   \n\n  number_available_in_stock number_of_reviews  number_of_answered_questions  \\\n0                     5 new                15                           1.0   \n1                       NaN                 2                           1.0   \n2                     2 new                17                           2.0   \n3                       NaN                 1                           2.0   \n4                       NaN                 3                           2.0   \n\n  average_review_rating                   amazon_category_and_sub_category  \\\n0    4.9 out of 5 stars  Hobbies > Model Trains & Railway Sets > Rail V...   \n1    4.5 out of 5 stars  Hobbies > Model Trains & Railway Sets > Rail V...   \n2    3.9 out of 5 stars  Hobbies > Model Trains & Railway Sets > Rail V...   \n3    5.0 out of 5 stars  Hobbies > Model Trains & Railway Sets > Rail V...   \n4    4.7 out of 5 stars  Hobbies > Model Trains & Railway Sets > Rail V...   \n\n          customers_who_bought_this_item_also_bought  \\\n0  http://www.amazon.co.uk/Hornby-R8150-Catalogue...   \n1  http://www.amazon.co.uk/Christmas-Holiday-Expr...   \n2  http://www.amazon.co.uk/Classic-Train-Lights-B...   \n3                                                NaN   \n4  http://www.amazon.co.uk/Hornby-R6367-RailRoad-...   \n\n                                         description  \\\n0  Product Description Hornby 2014 Catalogue Box ...   \n1  Size Name:Large FunkyBuys® Large Christmas Hol...   \n2  BIG CLASSIC TOY TRAIN SET TRACK CARRIAGE LIGHT...   \n3  Hornby 00 Gauge BR Hawksworth 3rd Class W 2107...   \n4  Product Description Hornby RailRoad 0-4-0 Gild...   \n\n                                 product_information  \\\n0  Technical Details Item Weight640 g Product Dim...   \n1  Technical Details Manufacturer recommended age...   \n2  Technical Details Manufacturer recommended age...   \n3  Technical Details Item Weight259 g Product Dim...   \n4  Technical Details Item Weight159 g Product Dim...   \n\n                                 product_description  \\\n0  Product Description Hornby 2014 Catalogue Box ...   \n1  Size Name:Large FunkyBuys® Large Christmas Hol...   \n2  BIG CLASSIC TOY TRAIN SET TRACK CARRIAGE LIGHT...   \n3  Hornby 00 Gauge BR Hawksworth 3rd Class W 2107...   \n4  Product Description Hornby RailRoad 0-4-0 Gild...   \n\n         items_customers_buy_after_viewing_this_item  \\\n0  http://www.amazon.co.uk/Hornby-R8150-Catalogue...   \n1  http://www.amazon.co.uk/Christmas-Holiday-Expr...   \n2  http://www.amazon.co.uk/Train-With-Tracks-Batt...   \n3                                                NaN   \n4  http://www.amazon.co.uk/Hornby-R2672-RailRoad-...   \n\n                      customer_questions_and_answers  \\\n0  Does this catalogue detail all the previous Ho...   \n1  can you turn off sounds // hi no you cant turn...   \n2  What is the gauge of the track // Hi Paul.Trut...   \n3                                                NaN   \n4                                                NaN   \n\n                                    customer_reviews  \\\n0  Worth Buying For The Pictures Alone (As Ever) ...   \n1  Four Stars // 4.0 // 18 Dec. 2015 // By\\n    \\...   \n2  **Highly Recommended!** // 5.0 // 26 May 2015 ...   \n3  I love it // 5.0 // 22 July 2013 // By\\n    \\n...   \n4  Birthday present // 5.0 // 14 April 2014 // By...   \n\n                                             sellers  \n0  {\"seller\"=>[{\"Seller_name_1\"=>\"Amazon.co.uk\", ...  \n1  {\"seller\"=>{\"Seller_name_1\"=>\"UHD WHOLESALE\", ...  \n2  {\"seller\"=>[{\"Seller_name_1\"=>\"DEAL-BOX\", \"Sel...  \n3                                                NaN  \n4                                                NaN  ",
      "text/html": "<div>\n<style scoped>\n    .dataframe tbody tr th:only-of-type {\n        vertical-align: middle;\n    }\n\n    .dataframe tbody tr th {\n        vertical-align: top;\n    }\n\n    .dataframe thead th {\n        text-align: right;\n    }\n</style>\n<table border=\"1\" class=\"dataframe\">\n  <thead>\n    <tr style=\"text-align: right;\">\n      <th></th>\n      <th>uniq_id</th>\n      <th>product_name</th>\n      <th>manufacturer</th>\n      <th>price</th>\n      <th>number_available_in_stock</th>\n      <th>number_of_reviews</th>\n      <th>number_of_answered_questions</th>\n      <th>average_review_rating</th>\n      <th>amazon_category_and_sub_category</th>\n      <th>customers_who_bought_this_item_also_bought</th>\n      <th>description</th>\n      <th>product_information</th>\n      <th>product_description</th>\n      <th>items_customers_buy_after_viewing_this_item</th>\n      <th>customer_questions_and_answers</th>\n      <th>customer_reviews</th>\n      <th>sellers</th>\n    </tr>\n  </thead>\n  <tbody>\n    <tr>\n      <th>0</th>\n      <td>eac7efa5dbd3d667f26eb3d3ab504464</td>\n      <td>Hornby 2014 Catalogue</td>\n      <td>Hornby</td>\n      <td>£3.42</td>\n      <td>5 new</td>\n      <td>15</td>\n      <td>1.0</td>\n      <td>4.9 out of 5 stars</td>\n      <td>Hobbies &gt; Model Trains &amp; Railway Sets &gt; Rail V...</td>\n      <td>http://www.amazon.co.uk/Hornby-R8150-Catalogue...</td>\n      <td>Product Description Hornby 2014 Catalogue Box ...</td>\n      <td>Technical Details Item Weight640 g Product Dim...</td>\n      <td>Product Description Hornby 2014 Catalogue Box ...</td>\n      <td>http://www.amazon.co.uk/Hornby-R8150-Catalogue...</td>\n      <td>Does this catalogue detail all the previous Ho...</td>\n      <td>Worth Buying For The Pictures Alone (As Ever) ...</td>\n      <td>{\"seller\"=&gt;[{\"Seller_name_1\"=&gt;\"Amazon.co.uk\", ...</td>\n    </tr>\n    <tr>\n      <th>1</th>\n      <td>b17540ef7e86e461d37f3ae58b7b72ac</td>\n      <td>FunkyBuys® Large Christmas Holiday Express Fes...</td>\n      <td>FunkyBuys</td>\n      <td>£16.99</td>\n      <td>NaN</td>\n      <td>2</td>\n      <td>1.0</td>\n      <td>4.5 out of 5 stars</td>\n      <td>Hobbies &gt; Model Trains &amp; Railway Sets &gt; Rail V...</td>\n      <td>http://www.amazon.co.uk/Christmas-Holiday-Expr...</td>\n      <td>Size Name:Large FunkyBuys® Large Christmas Hol...</td>\n      <td>Technical Details Manufacturer recommended age...</td>\n      <td>Size Name:Large FunkyBuys® Large Christmas Hol...</td>\n      <td>http://www.amazon.co.uk/Christmas-Holiday-Expr...</td>\n      <td>can you turn off sounds // hi no you cant turn...</td>\n      <td>Four Stars // 4.0 // 18 Dec. 2015 // By\\n    \\...</td>\n      <td>{\"seller\"=&gt;{\"Seller_name_1\"=&gt;\"UHD WHOLESALE\", ...</td>\n    </tr>\n    <tr>\n      <th>2</th>\n      <td>348f344247b0c1a935b1223072ef9d8a</td>\n      <td>CLASSIC TOY TRAIN SET TRACK CARRIAGES LIGHT EN...</td>\n      <td>ccf</td>\n      <td>£9.99</td>\n      <td>2 new</td>\n      <td>17</td>\n      <td>2.0</td>\n      <td>3.9 out of 5 stars</td>\n      <td>Hobbies &gt; Model Trains &amp; Railway Sets &gt; Rail V...</td>\n      <td>http://www.amazon.co.uk/Classic-Train-Lights-B...</td>\n      <td>BIG CLASSIC TOY TRAIN SET TRACK CARRIAGE LIGHT...</td>\n      <td>Technical Details Manufacturer recommended age...</td>\n      <td>BIG CLASSIC TOY TRAIN SET TRACK CARRIAGE LIGHT...</td>\n      <td>http://www.amazon.co.uk/Train-With-Tracks-Batt...</td>\n      <td>What is the gauge of the track // Hi Paul.Trut...</td>\n      <td>**Highly Recommended!** // 5.0 // 26 May 2015 ...</td>\n      <td>{\"seller\"=&gt;[{\"Seller_name_1\"=&gt;\"DEAL-BOX\", \"Sel...</td>\n    </tr>\n    <tr>\n      <th>3</th>\n      <td>e12b92dbb8eaee78b22965d2a9bbbd9f</td>\n      <td>HORNBY Coach R4410A BR Hawksworth Corridor 3rd</td>\n      <td>Hornby</td>\n      <td>£39.99</td>\n      <td>NaN</td>\n      <td>1</td>\n      <td>2.0</td>\n      <td>5.0 out of 5 stars</td>\n      <td>Hobbies &gt; Model Trains &amp; Railway Sets &gt; Rail V...</td>\n      <td>NaN</td>\n      <td>Hornby 00 Gauge BR Hawksworth 3rd Class W 2107...</td>\n      <td>Technical Details Item Weight259 g Product Dim...</td>\n      <td>Hornby 00 Gauge BR Hawksworth 3rd Class W 2107...</td>\n      <td>NaN</td>\n      <td>NaN</td>\n      <td>I love it // 5.0 // 22 July 2013 // By\\n    \\n...</td>\n      <td>NaN</td>\n    </tr>\n    <tr>\n      <th>4</th>\n      <td>e33a9adeed5f36840ccc227db4682a36</td>\n      <td>Hornby 00 Gauge 0-4-0 Gildenlow Salt Co. Steam...</td>\n      <td>Hornby</td>\n      <td>£32.19</td>\n      <td>NaN</td>\n      <td>3</td>\n      <td>2.0</td>\n      <td>4.7 out of 5 stars</td>\n      <td>Hobbies &gt; Model Trains &amp; Railway Sets &gt; Rail V...</td>\n      <td>http://www.amazon.co.uk/Hornby-R6367-RailRoad-...</td>\n      <td>Product Description Hornby RailRoad 0-4-0 Gild...</td>\n      <td>Technical Details Item Weight159 g Product Dim...</td>\n      <td>Product Description Hornby RailRoad 0-4-0 Gild...</td>\n      <td>http://www.amazon.co.uk/Hornby-R2672-RailRoad-...</td>\n      <td>NaN</td>\n      <td>Birthday present // 5.0 // 14 April 2014 // By...</td>\n      <td>NaN</td>\n    </tr>\n  </tbody>\n</table>\n</div>"
     },
     "execution_count": 2,
     "metadata": {},
     "output_type": "execute_result"
    }
   ],
   "source": [
    "# Read original dataset\n",
    "df = pd.read_csv('./amazon_co-ecommerce_sample.csv')\n",
    "\n",
    "print(f'Shape of original dataset: {df.shape}')\n",
    "df.head()"
   ],
   "metadata": {
    "collapsed": false,
    "ExecuteTime": {
     "end_time": "2023-11-30T01:19:12.739805978Z",
     "start_time": "2023-11-30T01:19:12.558711056Z"
    }
   },
   "id": "a01cd9b0dcb56807"
  },
  {
   "cell_type": "code",
   "execution_count": 3,
   "outputs": [
    {
     "name": "stdout",
     "output_type": "stream",
     "text": [
      "Shape of extracted dataset: (914, 1)\n"
     ]
    },
    {
     "data": {
      "text/plain": "                      customer_questions_and_answers\n0  Does this catalogue detail all the previous Ho...\n1  can you turn off sounds // hi no you cant turn...\n2  What is the gauge of the track // Hi Paul.Trut...\n5  is it possible to replace thr grain of wheat l...\n7  Can this train go backwards as well as forward...",
      "text/html": "<div>\n<style scoped>\n    .dataframe tbody tr th:only-of-type {\n        vertical-align: middle;\n    }\n\n    .dataframe tbody tr th {\n        vertical-align: top;\n    }\n\n    .dataframe thead th {\n        text-align: right;\n    }\n</style>\n<table border=\"1\" class=\"dataframe\">\n  <thead>\n    <tr style=\"text-align: right;\">\n      <th></th>\n      <th>customer_questions_and_answers</th>\n    </tr>\n  </thead>\n  <tbody>\n    <tr>\n      <th>0</th>\n      <td>Does this catalogue detail all the previous Ho...</td>\n    </tr>\n    <tr>\n      <th>1</th>\n      <td>can you turn off sounds // hi no you cant turn...</td>\n    </tr>\n    <tr>\n      <th>2</th>\n      <td>What is the gauge of the track // Hi Paul.Trut...</td>\n    </tr>\n    <tr>\n      <th>5</th>\n      <td>is it possible to replace thr grain of wheat l...</td>\n    </tr>\n    <tr>\n      <th>7</th>\n      <td>Can this train go backwards as well as forward...</td>\n    </tr>\n  </tbody>\n</table>\n</div>"
     },
     "execution_count": 3,
     "metadata": {},
     "output_type": "execute_result"
    }
   ],
   "source": [
    "# Drop NAN's and extract question and answer data\n",
    "df_qa = df.dropna(subset=['customer_questions_and_answers'])[['customer_questions_and_answers']]\n",
    "\n",
    "print(f'Shape of extracted dataset: {df_qa.shape}')\n",
    "df_qa.head()"
   ],
   "metadata": {
    "collapsed": false,
    "ExecuteTime": {
     "end_time": "2023-11-30T01:19:12.749037908Z",
     "start_time": "2023-11-30T01:19:12.742340560Z"
    }
   },
   "id": "232b8ed271cf7fca"
  },
  {
   "cell_type": "code",
   "execution_count": 4,
   "outputs": [
    {
     "data": {
      "text/plain": "['Does this catalogue detail all the previous Hornby products please? // HiThe 2014 catalogue does indeed detail previous models but also includes new releases for 2014.You would be advised to purchase models as you need them to avoid them being discontinued in subsequent years…\\n    \\n      see more\\n    \\n  \\n  \\n    HiThe 2014 catalogue does indeed detail previous models but also includes new releases for 2014.You would be advised to purchase models as you need them to avoid them being discontinued in subsequent yearsHope this helps\\n    \\n      see less']"
     },
     "execution_count": 4,
     "metadata": {},
     "output_type": "execute_result"
    }
   ],
   "source": [
    "# Sample of QA data\n",
    "list(df_qa.loc[0].values)"
   ],
   "metadata": {
    "collapsed": false,
    "ExecuteTime": {
     "end_time": "2023-11-30T01:19:12.784083828Z",
     "start_time": "2023-11-30T01:19:12.747691537Z"
    }
   },
   "id": "a001e94d56ef3730"
  },
  {
   "cell_type": "markdown",
   "source": [
    "## Generate data file"
   ],
   "metadata": {
    "collapsed": false
   },
   "id": "1121891f09ed82f1"
  },
  {
   "cell_type": "code",
   "execution_count": 5,
   "outputs": [],
   "source": [
    "# Function to clean text by removing special characters\n",
    "def clean_text(text):\n",
    "    text = text.replace('\\n', ' ')\n",
    "    # Replace Unicode ellipsis with a space\n",
    "    text = text.replace('\\u2026', ' ')\n",
    "\n",
    "    # Extracting text between 'see more' and 'see less'\n",
    "    start_keyword = 'see more'\n",
    "    end_keyword = 'see less'\n",
    "    start_index = text.find(start_keyword)\n",
    "    end_index = text.find(end_keyword)\n",
    "\n",
    "    if start_index != -1 and end_index != -1:\n",
    "        # Extracting the whole answer\n",
    "        text = text[start_index + len(start_keyword):end_index].strip()\n",
    "    elif start_index != -1:\n",
    "        # If only 'see more' is present\n",
    "        text = text[start_index + len(start_keyword):].strip()\n",
    "    # If neither 'see more' nor 'see less' is present, keep the text as is\n",
    "\n",
    "    return text\n",
    "\n",
    "def preprocess_qa(data):\n",
    "    preprocessed_data = []\n",
    "\n",
    "    for _, row in data.iterrows():\n",
    "        # Splitting by '|' to get individual question-answer pairs\n",
    "        qa_pairs = row['customer_questions_and_answers'].split('|')\n",
    "        \n",
    "        for qa_pair in qa_pairs:\n",
    "            # Splitting by '//' to separate question and answer\n",
    "            parts = qa_pair.split('//')\n",
    "            # Skip if there's no answer or malformed pair\n",
    "            if len(parts) < 2:\n",
    "                continue\n",
    "\n",
    "            question = parts[0].strip()\n",
    "            answer = clean_text(parts[1].strip())\n",
    "\n",
    "            preprocessed_data.append({\n",
    "                'question': question,\n",
    "                'answer': answer,\n",
    "                'answer_length': len(answer)\n",
    "            })\n",
    "\n",
    "    return preprocessed_data"
   ],
   "metadata": {
    "collapsed": false,
    "ExecuteTime": {
     "end_time": "2023-11-30T01:19:12.843272075Z",
     "start_time": "2023-11-30T01:19:12.769680837Z"
    }
   },
   "id": "f2c04fc9505b63b6"
  },
  {
   "cell_type": "code",
   "execution_count": 6,
   "outputs": [],
   "source": [
    "preprocessed_data = preprocess_qa(df_qa)\n",
    "\n",
    "preprocessed_df = pd.DataFrame(preprocessed_data)\n",
    "preprocessed_df.to_json('./qa_dataset.json', orient='records', lines=True)"
   ],
   "metadata": {
    "collapsed": false,
    "ExecuteTime": {
     "end_time": "2023-11-30T01:19:12.856277125Z",
     "start_time": "2023-11-30T01:19:12.810651387Z"
    }
   },
   "id": "2d1d386ffd49cb7d"
  }
 ],
 "metadata": {
  "kernelspec": {
   "display_name": "Python 3",
   "language": "python",
   "name": "python3"
  },
  "language_info": {
   "codemirror_mode": {
    "name": "ipython",
    "version": 2
   },
   "file_extension": ".py",
   "mimetype": "text/x-python",
   "name": "python",
   "nbconvert_exporter": "python",
   "pygments_lexer": "ipython2",
   "version": "2.7.6"
  }
 },
 "nbformat": 4,
 "nbformat_minor": 5
}
